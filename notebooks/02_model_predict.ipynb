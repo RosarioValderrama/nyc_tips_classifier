{
 "cells": [
  {
   "cell_type": "markdown",
   "id": "20e33207-896e-4fda-90a2-a5e3b8475bde",
   "metadata": {},
   "source": [
    "## Cargamos los datos de febrero 2020 (prueba)"
   ]
  },
  {
   "cell_type": "code",
   "execution_count": 9,
   "id": "bf00f177-9557-4826-926e-a3c1d3ee2d76",
   "metadata": {},
   "outputs": [],
   "source": [
    "# Imports y configuración\n",
    "import pandas as pd\n",
    "import numpy as np\n",
    "import os\n",
    "import sys\n",
    "\n",
    "# Permite importar desde ../src\n",
    "sys.path.append(os.path.abspath(os.path.join(os.getcwd(), '..', 'src')))\n",
    "\n",
    "from features.build_features import build_features\n",
    "from modeling.predict import load_model, evaluate_model"
   ]
  },
  {
   "cell_type": "code",
   "execution_count": 28,
   "id": "3d116ce6-d8f6-472c-85ca-8283c622a963",
   "metadata": {},
   "outputs": [
    {
     "name": "stderr",
     "output_type": "stream",
     "text": [
      "C:\\Users\\raval\\Dropbox\\Magister Data Science\\5TRIMESTRE\\Desarrollo_Proyectos_y_Productos_Datos\\Tarea_01\\nyc_tips_classifier\\src\\features\\build_features.py:27: SettingWithCopyWarning: \n",
      "A value is trying to be set on a copy of a slice from a DataFrame.\n",
      "Try using .loc[row_indexer,col_indexer] = value instead\n",
      "\n",
      "See the caveats in the documentation: https://pandas.pydata.org/pandas-docs/stable/user_guide/indexing.html#returning-a-view-versus-a-copy\n",
      "  df[features + [target_col]] = df[features + [target_col]].astype(\"float32\").fillna(-1.0)\n"
     ]
    }
   ],
   "source": [
    "taxi_feb = pd.read_parquet('https://d37ci6vzurychx.cloudfront.net/trip-data/yellow_tripdata_2020-02.parquet')\n",
    "target_col = \"tip_amount\"\n",
    "taxi_test = build_features(taxi_feb, target_col=target_col)\n",
    "features = taxi_test.drop(columns=[target_col])\n",
    "y_test = taxi_test[target_col]\n",
    "\n",
    "y_test = (y_test > 0).astype(int)"
   ]
  },
  {
   "cell_type": "code",
   "execution_count": 29,
   "id": "319cc047-2af2-4515-9cc6-8cbf873e8da5",
   "metadata": {},
   "outputs": [
    {
     "data": {
      "text/html": [
       "<div>\n",
       "<style scoped>\n",
       "    .dataframe tbody tr th:only-of-type {\n",
       "        vertical-align: middle;\n",
       "    }\n",
       "\n",
       "    .dataframe tbody tr th {\n",
       "        vertical-align: top;\n",
       "    }\n",
       "\n",
       "    .dataframe thead th {\n",
       "        text-align: right;\n",
       "    }\n",
       "</style>\n",
       "<table border=\"1\" class=\"dataframe\">\n",
       "  <thead>\n",
       "    <tr style=\"text-align: right;\">\n",
       "      <th></th>\n",
       "      <th>tpep_dropoff_datetime</th>\n",
       "      <th>pickup_weekday</th>\n",
       "      <th>pickup_hour</th>\n",
       "      <th>work_hours</th>\n",
       "      <th>pickup_minute</th>\n",
       "      <th>passenger_count</th>\n",
       "      <th>trip_distance</th>\n",
       "      <th>trip_time</th>\n",
       "      <th>trip_speed</th>\n",
       "      <th>PULocationID</th>\n",
       "      <th>DOLocationID</th>\n",
       "      <th>RatecodeID</th>\n",
       "      <th>tip_amount</th>\n",
       "    </tr>\n",
       "  </thead>\n",
       "  <tbody>\n",
       "    <tr>\n",
       "      <th>0</th>\n",
       "      <td>2020-02-01 00:30:32</td>\n",
       "      <td>5.0</td>\n",
       "      <td>0.0</td>\n",
       "      <td>0.0</td>\n",
       "      <td>17.0</td>\n",
       "      <td>1.0</td>\n",
       "      <td>2.60</td>\n",
       "      <td>777.0</td>\n",
       "      <td>0.003346</td>\n",
       "      <td>145.0</td>\n",
       "      <td>7.0</td>\n",
       "      <td>1.0</td>\n",
       "      <td>2.45</td>\n",
       "    </tr>\n",
       "    <tr>\n",
       "      <th>1</th>\n",
       "      <td>2020-02-01 01:05:36</td>\n",
       "      <td>5.0</td>\n",
       "      <td>0.0</td>\n",
       "      <td>0.0</td>\n",
       "      <td>32.0</td>\n",
       "      <td>1.0</td>\n",
       "      <td>4.80</td>\n",
       "      <td>1969.0</td>\n",
       "      <td>0.002438</td>\n",
       "      <td>45.0</td>\n",
       "      <td>61.0</td>\n",
       "      <td>1.0</td>\n",
       "      <td>6.30</td>\n",
       "    </tr>\n",
       "    <tr>\n",
       "      <th>2</th>\n",
       "      <td>2020-02-01 00:43:28</td>\n",
       "      <td>5.0</td>\n",
       "      <td>0.0</td>\n",
       "      <td>0.0</td>\n",
       "      <td>31.0</td>\n",
       "      <td>1.0</td>\n",
       "      <td>3.20</td>\n",
       "      <td>704.0</td>\n",
       "      <td>0.004545</td>\n",
       "      <td>186.0</td>\n",
       "      <td>140.0</td>\n",
       "      <td>1.0</td>\n",
       "      <td>1.00</td>\n",
       "    </tr>\n",
       "    <tr>\n",
       "      <th>3</th>\n",
       "      <td>2020-02-01 00:31:39</td>\n",
       "      <td>5.0</td>\n",
       "      <td>0.0</td>\n",
       "      <td>0.0</td>\n",
       "      <td>7.0</td>\n",
       "      <td>1.0</td>\n",
       "      <td>4.38</td>\n",
       "      <td>1444.0</td>\n",
       "      <td>0.003033</td>\n",
       "      <td>144.0</td>\n",
       "      <td>140.0</td>\n",
       "      <td>1.0</td>\n",
       "      <td>3.00</td>\n",
       "    </tr>\n",
       "    <tr>\n",
       "      <th>4</th>\n",
       "      <td>2020-02-01 01:01:29</td>\n",
       "      <td>5.0</td>\n",
       "      <td>0.0</td>\n",
       "      <td>0.0</td>\n",
       "      <td>51.0</td>\n",
       "      <td>1.0</td>\n",
       "      <td>2.28</td>\n",
       "      <td>586.0</td>\n",
       "      <td>0.003891</td>\n",
       "      <td>238.0</td>\n",
       "      <td>152.0</td>\n",
       "      <td>1.0</td>\n",
       "      <td>0.00</td>\n",
       "    </tr>\n",
       "  </tbody>\n",
       "</table>\n",
       "</div>"
      ],
      "text/plain": [
       "  tpep_dropoff_datetime  pickup_weekday  pickup_hour  work_hours  \\\n",
       "0   2020-02-01 00:30:32             5.0          0.0         0.0   \n",
       "1   2020-02-01 01:05:36             5.0          0.0         0.0   \n",
       "2   2020-02-01 00:43:28             5.0          0.0         0.0   \n",
       "3   2020-02-01 00:31:39             5.0          0.0         0.0   \n",
       "4   2020-02-01 01:01:29             5.0          0.0         0.0   \n",
       "\n",
       "   pickup_minute  passenger_count  trip_distance  trip_time  trip_speed  \\\n",
       "0           17.0              1.0           2.60      777.0    0.003346   \n",
       "1           32.0              1.0           4.80     1969.0    0.002438   \n",
       "2           31.0              1.0           3.20      704.0    0.004545   \n",
       "3            7.0              1.0           4.38     1444.0    0.003033   \n",
       "4           51.0              1.0           2.28      586.0    0.003891   \n",
       "\n",
       "   PULocationID  DOLocationID  RatecodeID  tip_amount  \n",
       "0         145.0           7.0         1.0        2.45  \n",
       "1          45.0          61.0         1.0        6.30  \n",
       "2         186.0         140.0         1.0        1.00  \n",
       "3         144.0         140.0         1.0        3.00  \n",
       "4         238.0         152.0         1.0        0.00  "
      ]
     },
     "execution_count": 29,
     "metadata": {},
     "output_type": "execute_result"
    }
   ],
   "source": [
    "taxi_test.head()"
   ]
  },
  {
   "cell_type": "markdown",
   "id": "9145379c-07cb-4eb0-992e-686044fdafab",
   "metadata": {},
   "source": [
    "## Cargamos el modelo que guardamos y realizamos predicciones de prueba"
   ]
  },
  {
   "cell_type": "code",
   "execution_count": 30,
   "id": "c741420f-e666-4fbf-bb8e-ab459e4ab484",
   "metadata": {},
   "outputs": [],
   "source": [
    "model_path = os.path.join(os.getcwd(), \"..\", \"models\", \"random_forest_model.joblib\")\n",
    "model = load_model(model_path)"
   ]
  },
  {
   "cell_type": "code",
   "execution_count": 31,
   "id": "9c25ebe0-6023-4e74-a008-2a80574d71d7",
   "metadata": {},
   "outputs": [
    {
     "data": {
      "text/plain": [
       "array(['pickup_weekday', 'pickup_hour', 'work_hours', 'pickup_minute',\n",
       "       'passenger_count', 'trip_distance', 'trip_time', 'trip_speed',\n",
       "       'PULocationID', 'DOLocationID', 'RatecodeID'], dtype=object)"
      ]
     },
     "execution_count": 31,
     "metadata": {},
     "output_type": "execute_result"
    }
   ],
   "source": [
    "model.feature_names_in_"
   ]
  },
  {
   "cell_type": "code",
   "execution_count": 32,
   "id": "ec826642-6a5d-49b0-8b54-06112c83bba7",
   "metadata": {},
   "outputs": [],
   "source": [
    "features = features[model.feature_names_in_]"
   ]
  },
  {
   "cell_type": "code",
   "execution_count": 33,
   "id": "2fdbb64d-16d2-4502-81b0-87f4f911fe06",
   "metadata": {},
   "outputs": [
    {
     "name": "stdout",
     "output_type": "stream",
     "text": [
      "F1-score para el conjunto de prueba (febrero 2020): 0.8401\n",
      "Tiempo total de evaluación: 32.69 segundos\n"
     ]
    }
   ],
   "source": [
    "from time import time\n",
    "\n",
    "start = time()\n",
    "f1 = evaluate_model(model, features, y_test)\n",
    "print(f\"F1-score para el conjunto de prueba (febrero 2020): {f1:.4f}\")\n",
    "print(f\"Tiempo total de evaluación: {time() - start:.2f} segundos\")"
   ]
  },
  {
   "cell_type": "code",
   "execution_count": null,
   "id": "b7aeb8fd-ca39-42b9-a60c-b862cf6962aa",
   "metadata": {},
   "outputs": [],
   "source": []
  },
  {
   "cell_type": "code",
   "execution_count": null,
   "id": "436d7442-1896-4e28-bcd4-770cce1d2866",
   "metadata": {},
   "outputs": [],
   "source": []
  },
  {
   "cell_type": "code",
   "execution_count": null,
   "id": "02c50540-b17a-4e4f-895b-ce734a3c8b76",
   "metadata": {},
   "outputs": [],
   "source": []
  },
  {
   "cell_type": "code",
   "execution_count": null,
   "id": "d9022ef7-fc73-4321-83ae-325bd4602ca3",
   "metadata": {},
   "outputs": [],
   "source": []
  }
 ],
 "metadata": {
  "kernelspec": {
   "display_name": "Python 3 (ipykernel)",
   "language": "python",
   "name": "python3"
  },
  "language_info": {
   "codemirror_mode": {
    "name": "ipython",
    "version": 3
   },
   "file_extension": ".py",
   "mimetype": "text/x-python",
   "name": "python",
   "nbconvert_exporter": "python",
   "pygments_lexer": "ipython3",
   "version": "3.11.7"
  }
 },
 "nbformat": 4,
 "nbformat_minor": 5
}
