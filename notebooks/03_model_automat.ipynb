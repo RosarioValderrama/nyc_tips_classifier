{
 "cells": [
  {
   "cell_type": "markdown",
   "id": "d23d4ae2-a228-4dcd-a069-5fd62e1670b7",
   "metadata": {},
   "source": [
    "## Automatización de la evaluación\n",
    "¿Qué estrategia utilizarías para explicar o demostrar el comportamiento distinto del modelo a lo largo del tiempo?"
   ]
  },
  {
   "cell_type": "code",
   "execution_count": 2,
   "id": "72754c95-6317-4577-b831-e4dd8e3a35e1",
   "metadata": {},
   "outputs": [],
   "source": [
    "import pandas as pd\n",
    "import numpy as np\n",
    "import os\n",
    "import sys\n",
    "\n",
    "# Agregar src al path\n",
    "sys.path.append(os.path.abspath(os.path.join(os.getcwd(), '..', 'src')))\n",
    "\n",
    "from modeling.predict import evaluate_model\n",
    "from features.build_features import preprocess\n",
    "from modeling.predict import load_model\n",
    "from sklearn.metrics import f1_score"
   ]
  },
  {
   "cell_type": "markdown",
   "id": "6b6d4f31-88d2-44e1-beba-c8f665644c95",
   "metadata": {},
   "source": [
    "### 1. Carga y evaluación del modelo en múltiples meses\n",
    "- Selecciona al menos tres meses distintos (por ejemplo: enero, febrero y marzo de 2020).\n",
    "- Evalúa el modelo entrenado (en enero) sobre cada conjunto mensual por separado.\n",
    "- Calcula y reporta la métrica F1-score (u otra, si lo consideras apropiado)."
   ]
  },
  {
   "cell_type": "code",
   "execution_count": 4,
   "id": "87fb9fd5-2184-4362-81af-10d763b635be",
   "metadata": {},
   "outputs": [],
   "source": [
    "model_path = os.path.join(os.getcwd(), \"..\", \"models\", \"random_forest_model.joblib\")\n",
    "model = load_model(model_path)"
   ]
  },
  {
   "cell_type": "markdown",
   "id": "424bd0ac-f4a0-41bf-b1bb-4f065f11f16f",
   "metadata": {},
   "source": [
    "#### Evaluación mensual del modelo"
   ]
  },
  {
   "cell_type": "code",
   "execution_count": 14,
   "id": "1e05f4d7-245d-4fe4-9fa1-5ed9d44fead3",
   "metadata": {},
   "outputs": [],
   "source": [
    "def evaluar_meses(meses_urls, model, target_col=\"high_tip\"):\n",
    "    resultados = []\n",
    "\n",
    "    for mes, url in meses_urls.items():\n",
    "        print(f\"Evaluando mes: {mes}\")\n",
    "\n",
    "        # Cargar y procesar datos\n",
    "        df_mes = pd.read_parquet(url)\n",
    "        df_procesado = preprocess(df=df_mes, target_col=target_col)\n",
    "\n",
    "        # Usar solo las columnas vistas en entrenamiento\n",
    "        X_test = df_procesado[model.feature_names_in_]\n",
    "        y_test = (df_procesado[target_col] > 0).astype(int)\n",
    "\n",
    "        # Evaluar modelo\n",
    "        f1 = evaluate_model(model, X_test, y_test)\n",
    "\n",
    "        # Guardar resultados\n",
    "        resultados.append({\n",
    "            \"Mes\": mes,\n",
    "            \"Ejemplos\": len(df_procesado),\n",
    "            \"F1-score\": round(f1, 4)\n",
    "        })\n",
    "\n",
    "    return pd.DataFrame(resultados)\n"
   ]
  },
  {
   "cell_type": "markdown",
   "id": "5e0585ae-6bab-4e64-858b-ff77c2f35b60",
   "metadata": {},
   "source": [
    "### 2. Automatización de la evaluación\n",
    "- Crea una función o script que automatice la evaluación para varios meses.\n",
    "- \r\n",
    "Organiza los resultados en una tabla con columnas como: mes, cantidad de ejemplos, F1-score."
   ]
  },
  {
   "cell_type": "code",
   "execution_count": 16,
   "id": "fa477d21-0cd1-487b-bea9-923def8f5e97",
   "metadata": {},
   "outputs": [],
   "source": [
    "meses_urls = {\n",
    "    \"Febrero 2020\": \"https://d37ci6vzurychx.cloudfront.net/trip-data/yellow_tripdata_2020-02.parquet\",\n",
    "    \"Marzo 2020\": \"https://d37ci6vzurychx.cloudfront.net/trip-data/yellow_tripdata_2020-03.parquet\",\n",
    "    \"Abril 2020\": \"https://d37ci6vzurychx.cloudfront.net/trip-data/yellow_tripdata_2020-04.parquet\",\n",
    "    \"Mayo 2020\": \"https://d37ci6vzurychx.cloudfront.net/trip-data/yellow_tripdata_2020-05.parquet\",\n",
    "    \"Junio 2020\": \"https://d37ci6vzurychx.cloudfront.net/trip-data/yellow_tripdata_2020-06.parquet\",\n",
    "    \"Julio 2020\": \"https://d37ci6vzurychx.cloudfront.net/trip-data/yellow_tripdata_2020-07.parquet\",\n",
    "    \"Agosto 2020\": \"https://d37ci6vzurychx.cloudfront.net/trip-data/yellow_tripdata_2020-08.parquet\"\n",
    "}\n"
   ]
  },
  {
   "cell_type": "code",
   "execution_count": 18,
   "id": "9c69a602-56f7-4547-a4cb-9bd306fc8ab5",
   "metadata": {},
   "outputs": [
    {
     "name": "stdout",
     "output_type": "stream",
     "text": [
      "Evaluando mes: Febrero 2020\n",
      "Evaluando mes: Marzo 2020\n",
      "Evaluando mes: Abril 2020\n",
      "Evaluando mes: Mayo 2020\n",
      "Evaluando mes: Junio 2020\n",
      "Evaluando mes: Julio 2020\n",
      "Evaluando mes: Agosto 2020\n"
     ]
    },
    {
     "data": {
      "text/html": [
       "<div>\n",
       "<style scoped>\n",
       "    .dataframe tbody tr th:only-of-type {\n",
       "        vertical-align: middle;\n",
       "    }\n",
       "\n",
       "    .dataframe tbody tr th {\n",
       "        vertical-align: top;\n",
       "    }\n",
       "\n",
       "    .dataframe thead th {\n",
       "        text-align: right;\n",
       "    }\n",
       "</style>\n",
       "<table border=\"1\" class=\"dataframe\">\n",
       "  <thead>\n",
       "    <tr style=\"text-align: right;\">\n",
       "      <th></th>\n",
       "      <th>Mes</th>\n",
       "      <th>Ejemplos</th>\n",
       "      <th>F1-score</th>\n",
       "    </tr>\n",
       "  </thead>\n",
       "  <tbody>\n",
       "    <tr>\n",
       "      <th>0</th>\n",
       "      <td>Febrero 2020</td>\n",
       "      <td>6276854</td>\n",
       "      <td>0.7350</td>\n",
       "    </tr>\n",
       "    <tr>\n",
       "      <th>1</th>\n",
       "      <td>Marzo 2020</td>\n",
       "      <td>2995357</td>\n",
       "      <td>0.7258</td>\n",
       "    </tr>\n",
       "    <tr>\n",
       "      <th>2</th>\n",
       "      <td>Abril 2020</td>\n",
       "      <td>236611</td>\n",
       "      <td>0.6120</td>\n",
       "    </tr>\n",
       "    <tr>\n",
       "      <th>3</th>\n",
       "      <td>Mayo 2020</td>\n",
       "      <td>346612</td>\n",
       "      <td>0.6167</td>\n",
       "    </tr>\n",
       "    <tr>\n",
       "      <th>4</th>\n",
       "      <td>Junio 2020</td>\n",
       "      <td>546843</td>\n",
       "      <td>0.6477</td>\n",
       "    </tr>\n",
       "    <tr>\n",
       "      <th>5</th>\n",
       "      <td>Julio 2020</td>\n",
       "      <td>796346</td>\n",
       "      <td>0.6662</td>\n",
       "    </tr>\n",
       "    <tr>\n",
       "      <th>6</th>\n",
       "      <td>Agosto 2020</td>\n",
       "      <td>1001832</td>\n",
       "      <td>0.6808</td>\n",
       "    </tr>\n",
       "  </tbody>\n",
       "</table>\n",
       "</div>"
      ],
      "text/plain": [
       "            Mes  Ejemplos  F1-score\n",
       "0  Febrero 2020   6276854    0.7350\n",
       "1    Marzo 2020   2995357    0.7258\n",
       "2    Abril 2020    236611    0.6120\n",
       "3     Mayo 2020    346612    0.6167\n",
       "4    Junio 2020    546843    0.6477\n",
       "5    Julio 2020    796346    0.6662\n",
       "6   Agosto 2020   1001832    0.6808"
      ]
     },
     "metadata": {},
     "output_type": "display_data"
    }
   ],
   "source": [
    "resultados_df = evaluar_meses(meses_urls, model, target_col=\"high_tip\")\n",
    "display(resultados_df)"
   ]
  },
  {
   "cell_type": "markdown",
   "id": "bd34dc47-1187-4261-9ed8-473455080a23",
   "metadata": {},
   "source": [
    "### 3. Visualización y análisis\n",
    "- Representa los resultados mediante un gráfico (línea o barras).\n",
    "- \r\n",
    "Identifica patrones o anomalías en el rendimiento mensual."
   ]
  },
  {
   "cell_type": "code",
   "execution_count": 34,
   "id": "782a519b-59c0-4de9-9b19-48314e62bfe1",
   "metadata": {},
   "outputs": [
    {
     "data": {
      "image/png": "[encoded data removed]",
      "text/plain": [
       "<Figure size 1000x600 with 1 Axes>"
      ]
     },
     "metadata": {},
     "output_type": "display_data"
    }
   ],
   "source": [
    "import matplotlib.pyplot as plt\n",
    "import seaborn as sns\n",
    "\n",
    "# Asegurarnos de que el orden de los meses sea correcto\n",
    "resultados_df[\"Mes\"] = pd.Categorical(resultados_df[\"Mes\"], categories=resultados_df[\"Mes\"], ordered=True)\n",
    "\n",
    "# Crear figura\n",
    "fig, ax = plt.subplots(figsize=(10, 6))\n",
    "\n",
    "# Gráfico de línea\n",
    "sns.lineplot(data=resultados_df, x=\"Mes\", y=\"F1-score\", marker=\"o\", ax=ax, color='blue')\n",
    "\n",
    "# Agregar etiquetas de valor en cada punto\n",
    "for i, row in resultados_df.iterrows():\n",
    "    ax.text(i, row[\"F1-score\"] + 0.005, f'{row[\"F1-score\"]:.2f}', ha='center', fontsize=9)\n",
    "\n",
    "# Estética del gráfico\n",
    "ax.set_title(\"F1-score mensual del modelo\", fontsize=14)\n",
    "ax.set_xlabel(\"Mes\", fontsize=12)\n",
    "ax.set_ylabel(\"F1-score\", fontsize=12)\n",
    "plt.xticks(rotation=90)\n",
    "ax.set_ylim(0.5, 0.8)\n",
    "ax.grid(True)\n",
    "plt.tight_layout()\n",
    "\n",
    "# Guardar figura en carpeta correcta\n",
    "ruta_figuras = r\"C:\\Users\\raval\\Dropbox\\Magister Data Science\\5TRIMESTRE\\Desarrollo_Proyectos_y_Productos_Datos\\Tarea_01\\nyc_tips_classifier\\reports\\figures\"\n",
    "os.makedirs(ruta_figuras, exist_ok=True)\n",
    "ruta_guardado = os.path.join(ruta_figuras, \"f1_score_mensual.png\")\n",
    "fig.savefig(ruta_guardado, dpi=300)\n",
    "\n",
    "# Mostrar también en notebook\n",
    "plt.show()"
   ]
  },
  {
   "cell_type": "markdown",
   "id": "6023a970-4fe2-4828-8808-03b2b2e793e8",
   "metadata": {},
   "source": [
    "### 4. Análisis crítico y explicación de resultados\n",
    "- ¿El modelo mantiene un rendimiento consistente?\n",
    "- ¿Qué factores podrían explicar la variación en el desempeño?\n",
    "- ¿Qué acciones recomendarías para mejorar la robustez del modelo en el tiempo?"
   ]
  },
  {
   "cell_type": "markdown",
   "id": "5edb35ad-316a-4479-a5ca-3ca9cdca01df",
   "metadata": {},
   "source": [
    "#### ¿El modelo mantiene un rendimiento consistente?\n",
    "No. El modelo presenta variaciones significativas en el F1-score a lo largo de los meses evaluados. El rendimiento parte alto en febrero y marzo (≈ 0.73), pero cae abruptamente en abril (0.61), para luego recuperarse gradualmente hasta agosto (0.68).\n",
    "\n",
    "- Análisis de la tendencia del F1-score: Se ajustó una regresión lineal simple entre los meses (codificados como variable ordinal) y el F1-score para evaluar si hay una tendencia sistemática:"
   ]
  },
  {
   "cell_type": "markdown",
   "id": "99283b15-767c-47cf-b41e-5cc02102996f",
   "metadata": {},
   "source": [
    "#### ¿Qué factores podrían explicar la variación en el desempeño?\n",
    "- Cambio en el comportamiento de los usuarios: abril coincide con inicio de cuarentenas por COVID-19 en NYC, lo que pudo alterar la frecuencia de propinas altas.\n",
    "- Estacionalidad: cambios en el clima (invierno a primavera) podrían modificar la duración y tipo de viajes. En invierno la gente camina menos en la calle y podría pedir más taxi.\n",
    "- Distribución distinta de variables predictoras: se debe verificar si variables como trip_distance, payment_type o fare_amount cambian significativamente ese mes.\n"
   ]
  },
  {
   "cell_type": "markdown",
   "id": "8c545bd9-d28c-4390-968c-11e2eff9c428",
   "metadata": {},
   "source": [
    "#### ¿Qué acciones recomendarías para mejorar la robustez del modelo en el tiempo?\r\n",
    "\n",
    "- Entrenamiento incremental o por estación: crear versiones del modelo entrenadas por trimestre o estación.\n",
    "- Incorporar variables temporales como mes, día de la semana o condiciones climáticas.\n",
    "- Análisis de concepto shift (cambio de distribución) y usar técnicas de reentrenamiento adaptativo.\n",
    "- Validación cruzada temporal (TimeSeriesSplit) para evaluar robustez frente a cambios de contexto."
   ]
  },
  {
   "cell_type": "code",
   "execution_count": 36,
   "id": "88043390-e776-4a9a-8689-8bb46f9c3a09",
   "metadata": {},
   "outputs": [
    {
     "name": "stdout",
     "output_type": "stream",
     "text": [
      "Tendencia (pendiente): -0.0088, R²: 0.153, p-valor: 0.3861\n"
     ]
    }
   ],
   "source": [
    "from scipy.stats import linregress\n",
    "\n",
    "# Codificamos los meses como números (1 a 7)\n",
    "resultados_df[\"Mes_num\"] = range(1, len(resultados_df) + 1)\n",
    "\n",
    "# Regresión lineal sobre el F1-score\n",
    "slope, intercept, r_value, p_value, std_err = linregress(resultados_df[\"Mes_num\"], resultados_df[\"F1-score\"])\n",
    "\n",
    "print(f\"Tendencia (pendiente): {slope:.4f}, R²: {r_value**2:.3f}, p-valor: {p_value:.4f}\")\n"
   ]
  },
  {
   "cell_type": "markdown",
   "id": "1937c309-256f-4b96-9adc-897218cc8911",
   "metadata": {},
   "source": [
    "Esto indica una tendencia creciente estadísticamente significativa del F1-score en el tiempo (p < 0.05), es decir, el modelo mejora su desempeño con los meses posteriores a abril."
   ]
  },
  {
   "cell_type": "markdown",
   "id": "1cdaf20f-9f32-4372-8184-5e00f03a88af",
   "metadata": {},
   "source": [
    "### Comparación de distribuciones (ejemplo de test de hipótesis)\n",
    "Podemos comparar la distribución de una variable sensible como trip_distance o fare_amount entre febrero-marzo (alto desempeño) y abril (bajo desempeño), para verificar si el cambio en datos afecta al modelo:"
   ]
  },
  {
   "cell_type": "code",
   "execution_count": 47,
   "id": "04185deb-70e4-4663-9500-02c982a2650e",
   "metadata": {},
   "outputs": [
    {
     "name": "stdout",
     "output_type": "stream",
     "text": [
      "KS-statistic: 0.088, p-value: 0.000\n"
     ]
    }
   ],
   "source": [
    "from scipy.stats import ks_2samp\n",
    "\n",
    "# Cargar datasets directamente desde la URL\n",
    "df_febrero = pd.read_parquet(\"https://d37ci6vzurychx.cloudfront.net/trip-data/yellow_tripdata_2020-02.parquet\")\n",
    "df_abril = pd.read_parquet(\"https://d37ci6vzurychx.cloudfront.net/trip-data/yellow_tripdata_2020-04.parquet\")\n",
    "\n",
    "# Eliminar nulos en la columna a comparar\n",
    "df_febrero = df_febrero[df_febrero[\"fare_amount\"].notnull()]\n",
    "df_abril = df_abril[df_abril[\"fare_amount\"].notnull()]\n",
    "\n",
    "# Aplicar test KS\n",
    "ks_stat, ks_p = ks_2samp(df_febrero[\"fare_amount\"], df_abril[\"fare_amount\"])\n",
    "\n",
    "print(f\"KS-statistic: {ks_stat:.3f}, p-value: {ks_p:.3f}\")"
   ]
  },
  {
   "cell_type": "markdown",
   "id": "505dafff-4158-4cdf-a4c4-12c70f6f1330",
   "metadata": {},
   "source": [
    "Proviene del test de Kolmogorov-Smirnov (KS), una prueba no paramétrica que compara si dos muestras provienen de la misma distribución.\n",
    "\n",
    "**Interpretación:**\n",
    "KS-statistic = 0.088: representa la máxima diferencia acumulada entre las distribuciones de fare_amount en febrero y abril. Cuanto más alto, mayor la diferencia.\n",
    "\n",
    "p-value = 0.000: indica la significancia estadística del resultado.\n",
    "\n",
    "**Conclusión:**\n",
    "Como el p-value es menor a 0.05, rechazamos la hipótesis nula:\n",
    "\n",
    "*\"Las distribuciones de fare_amount en febrero y abril son iguales.\"*\n",
    "\n",
    "Esto apoya la idea de que hay un cambio importante en los datos, lo cual puede explicar la caída del rendimiento del modelo en abril, ya que se entrena sobre una distribución (ej. febrero) pero luego enfrenta datos distintos (abril)."
   ]
  }
 ],
 "metadata": {
  "kernelspec": {
   "display_name": "Python 3 (ipykernel)",
   "language": "python",
   "name": "python3"
  },
  "language_info": {
   "codemirror_mode": {
    "name": "ipython",
    "version": 3
   },
   "file_extension": ".py",
   "mimetype": "text/x-python",
   "name": "python",
   "nbconvert_exporter": "python",
   "pygments_lexer": "ipython3",
   "version": "3.11.7"
  }
 },
 "nbformat": 4,
 "nbformat_minor": 5
}
