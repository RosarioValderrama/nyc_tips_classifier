{
 "cells": [
  {
   "cell_type": "markdown",
   "id": "20e33207-896e-4fda-90a2-a5e3b8475bde",
   "metadata": {},
   "source": [
    "## Cargamos los datos de febrero 2020 (prueba)"
   ]
  },
  {
   "cell_type": "code",
   "execution_count": 10,
   "id": "bf00f177-9557-4826-926e-a3c1d3ee2d76",
   "metadata": {},
   "outputs": [
    {
     "ename": "ModuleNotFoundError",
     "evalue": "No module named 'src'",
     "output_type": "error",
     "traceback": [
      "\u001b[1;31m---------------------------------------------------------------------------\u001b[0m",
      "\u001b[1;31mModuleNotFoundError\u001b[0m                       Traceback (most recent call last)",
      "Cell \u001b[1;32mIn[10], line 10\u001b[0m\n\u001b[0;32m      7\u001b[0m \u001b[38;5;66;03m# Permite importar desde ../src\u001b[39;00m\n\u001b[0;32m      8\u001b[0m sys\u001b[38;5;241m.\u001b[39mpath\u001b[38;5;241m.\u001b[39mappend(os\u001b[38;5;241m.\u001b[39mpath\u001b[38;5;241m.\u001b[39mabspath(os\u001b[38;5;241m.\u001b[39mpath\u001b[38;5;241m.\u001b[39mjoin(os\u001b[38;5;241m.\u001b[39mgetcwd(), \u001b[38;5;124m'\u001b[39m\u001b[38;5;124m..\u001b[39m\u001b[38;5;124m'\u001b[39m, \u001b[38;5;124m'\u001b[39m\u001b[38;5;124msrc\u001b[39m\u001b[38;5;124m'\u001b[39m)))\n\u001b[1;32m---> 10\u001b[0m \u001b[38;5;28;01mfrom\u001b[39;00m \u001b[38;5;21;01msrc\u001b[39;00m\u001b[38;5;21;01m.\u001b[39;00m\u001b[38;5;21;01mbuild_features\u001b[39;00m \u001b[38;5;28;01mimport\u001b[39;00m preprocess\n\u001b[0;32m     11\u001b[0m \u001b[38;5;28;01mfrom\u001b[39;00m \u001b[38;5;21;01msrc\u001b[39;00m\u001b[38;5;21;01m.\u001b[39;00m\u001b[38;5;21;01mpredict\u001b[39;00m \u001b[38;5;28;01mimport\u001b[39;00m load_model, evaluate_model\n",
      "\u001b[1;31mModuleNotFoundError\u001b[0m: No module named 'src'"
     ]
    }
   ],
   "source": [
    "# Imports y configuración\n",
    "import pandas as pd\n",
    "import numpy as np\n",
    "import os\n",
    "import sys\n",
    "\n",
    "# Permite importar desde ../src\n",
    "sys.path.append(os.path.abspath(os.path.join(os.getcwd(), '..', 'src')))\n",
    "\n",
    "from src.build_features import preprocess\n",
    "from src.predict import load_model, evaluate_model"
   ]
  },
  {
   "cell_type": "code",
   "execution_count": null,
   "id": "3d116ce6-d8f6-472c-85ca-8283c622a963",
   "metadata": {},
   "outputs": [],
   "source": []
  },
  {
   "cell_type": "code",
   "execution_count": null,
   "id": "319cc047-2af2-4515-9cc6-8cbf873e8da5",
   "metadata": {},
   "outputs": [],
   "source": []
  },
  {
   "cell_type": "code",
   "execution_count": null,
   "id": "4365bcf3-fb4b-49f2-85d4-f751147db660",
   "metadata": {},
   "outputs": [],
   "source": []
  },
  {
   "cell_type": "code",
   "execution_count": null,
   "id": "c741420f-e666-4fbf-bb8e-ab459e4ab484",
   "metadata": {},
   "outputs": [],
   "source": []
  },
  {
   "cell_type": "code",
   "execution_count": null,
   "id": "2fdbb64d-16d2-4502-81b0-87f4f911fe06",
   "metadata": {},
   "outputs": [],
   "source": [
    "# 📥 Cargar los datos de febrero 2020\n",
    "taxi_feb = pd.read_parquet('https://d37ci6vzurychx.cloudfront.net/trip-data/yellow_tripdata_2020-02.parquet')\n",
    "target_col = \"tip_amount\"\n",
    "taxi_test = preprocess(taxi_feb, target_col=target_col)\n",
    "features = taxi_test.drop(columns=[target_col])\n",
    "y_test = taxi_test[target_col]\n",
    "\n",
    "# %%\n",
    "# 🧠 Cargar el modelo entrenado\n",
    "from joblib import load\n",
    "import os\n",
    "\n",
    "model_path = os.path.join(os.getcwd(), \"..\", \"models\", \"random_forest_model.joblib\")\n",
    "model = load_model(model_path)\n",
    "\n",
    "# %%\n",
    "# 📈 Evaluar el modelo\n",
    "from time import time\n",
    "start = time()\n",
    "\n",
    "f1 = evaluate_model(model, features, y_test)\n",
    "\n",
    "print(f\"✅ F1-score para el conjunto de prueba (febrero 2020): {f1:.4f}\")\n",
    "print(f\"⏱️ Tiempo total de evaluación: {time() - start:.2f} segundos\")\n"
   ]
  },
  {
   "cell_type": "code",
   "execution_count": null,
   "id": "b7aeb8fd-ca39-42b9-a60c-b862cf6962aa",
   "metadata": {},
   "outputs": [],
   "source": []
  },
  {
   "cell_type": "code",
   "execution_count": null,
   "id": "436d7442-1896-4e28-bcd4-770cce1d2866",
   "metadata": {},
   "outputs": [],
   "source": []
  },
  {
   "cell_type": "code",
   "execution_count": null,
   "id": "02c50540-b17a-4e4f-895b-ce734a3c8b76",
   "metadata": {},
   "outputs": [],
   "source": []
  },
  {
   "cell_type": "code",
   "execution_count": null,
   "id": "d9022ef7-fc73-4321-83ae-325bd4602ca3",
   "metadata": {},
   "outputs": [],
   "source": []
  }
 ],
 "metadata": {
  "kernelspec": {
   "display_name": "Python 3 (ipykernel)",
   "language": "python",
   "name": "python3"
  },
  "language_info": {
   "codemirror_mode": {
    "name": "ipython",
    "version": 3
   },
   "file_extension": ".py",
   "mimetype": "text/x-python",
   "name": "python",
   "nbconvert_exporter": "python",
   "pygments_lexer": "ipython3",
   "version": "3.11.7"
  }
 },
 "nbformat": 4,
 "nbformat_minor": 5
}
