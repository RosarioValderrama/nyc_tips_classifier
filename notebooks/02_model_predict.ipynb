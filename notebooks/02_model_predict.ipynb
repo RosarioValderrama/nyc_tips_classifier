{
 "cells": [
  {
   "cell_type": "markdown",
   "id": "20e33207-896e-4fda-90a2-a5e3b8475bde",
   "metadata": {},
   "source": [
    "## Cargamos los datos de febrero 2020 / prueba"
   ]
  },
  {
   "cell_type": "code",
   "execution_count": 70,
   "id": "bf00f177-9557-4826-926e-a3c1d3ee2d76",
   "metadata": {},
   "outputs": [],
   "source": [
    "# Imports y configuración\n",
    "import pandas as pd\n",
    "import numpy as np\n",
    "import os\n",
    "import sys\n",
    "\n",
    "# Permite importar desde ../src\n",
    "sys.path.append(os.path.abspath(os.path.join(os.getcwd(), '..', 'src')))\n",
    "\n",
    "from features.build_features import build_features\n",
    "from modeling.predict import load_model, evaluate_model"
   ]
  },
  {
   "cell_type": "code",
   "execution_count": 71,
   "id": "3d116ce6-d8f6-472c-85ca-8283c622a963",
   "metadata": {},
   "outputs": [
    {
     "name": "stderr",
     "output_type": "stream",
     "text": [
      "C:\\Users\\raval\\Dropbox\\Magister Data Science\\5TRIMESTRE\\Desarrollo_Proyectos_y_Productos_Datos\\Tarea_01\\nyc_tips_classifier\\src\\features\\build_features.py:27: SettingWithCopyWarning: \n",
      "A value is trying to be set on a copy of a slice from a DataFrame.\n",
      "Try using .loc[row_indexer,col_indexer] = value instead\n",
      "\n",
      "See the caveats in the documentation: https://pandas.pydata.org/pandas-docs/stable/user_guide/indexing.html#returning-a-view-versus-a-copy\n",
      "  df[features + [target_col]] = df[features + [target_col]].astype(\"float32\").fillna(-1.0)\n"
     ]
    }
   ],
   "source": [
    "taxi_feb = pd.read_parquet('https://d37ci6vzurychx.cloudfront.net/trip-data/yellow_tripdata_2020-02.parquet')\n",
    "target_col = \"tip_amount\"\n",
    "taxi_test = build_features(taxi_feb, target_col=target_col)\n",
    "features = taxi_test.drop(columns=[target_col])\n",
    "y_test = taxi_test[target_col]\n",
    "\n",
    "y_test = (y_test > 0).astype(int)"
   ]
  },
  {
   "cell_type": "code",
   "execution_count": 72,
   "id": "319cc047-2af2-4515-9cc6-8cbf873e8da5",
   "metadata": {},
   "outputs": [
    {
     "data": {
      "text/html": [
       "<div>\n",
       "<style scoped>\n",
       "    .dataframe tbody tr th:only-of-type {\n",
       "        vertical-align: middle;\n",
       "    }\n",
       "\n",
       "    .dataframe tbody tr th {\n",
       "        vertical-align: top;\n",
       "    }\n",
       "\n",
       "    .dataframe thead th {\n",
       "        text-align: right;\n",
       "    }\n",
       "</style>\n",
       "<table border=\"1\" class=\"dataframe\">\n",
       "  <thead>\n",
       "    <tr style=\"text-align: right;\">\n",
       "      <th></th>\n",
       "      <th>tpep_dropoff_datetime</th>\n",
       "      <th>pickup_weekday</th>\n",
       "      <th>pickup_hour</th>\n",
       "      <th>work_hours</th>\n",
       "      <th>pickup_minute</th>\n",
       "      <th>passenger_count</th>\n",
       "      <th>trip_distance</th>\n",
       "      <th>trip_time</th>\n",
       "      <th>trip_speed</th>\n",
       "      <th>PULocationID</th>\n",
       "      <th>DOLocationID</th>\n",
       "      <th>RatecodeID</th>\n",
       "      <th>tip_amount</th>\n",
       "    </tr>\n",
       "  </thead>\n",
       "  <tbody>\n",
       "    <tr>\n",
       "      <th>0</th>\n",
       "      <td>2020-02-01 00:30:32</td>\n",
       "      <td>5.0</td>\n",
       "      <td>0.0</td>\n",
       "      <td>0.0</td>\n",
       "      <td>17.0</td>\n",
       "      <td>1.0</td>\n",
       "      <td>2.60</td>\n",
       "      <td>777.0</td>\n",
       "      <td>0.003346</td>\n",
       "      <td>145.0</td>\n",
       "      <td>7.0</td>\n",
       "      <td>1.0</td>\n",
       "      <td>2.45</td>\n",
       "    </tr>\n",
       "    <tr>\n",
       "      <th>1</th>\n",
       "      <td>2020-02-01 01:05:36</td>\n",
       "      <td>5.0</td>\n",
       "      <td>0.0</td>\n",
       "      <td>0.0</td>\n",
       "      <td>32.0</td>\n",
       "      <td>1.0</td>\n",
       "      <td>4.80</td>\n",
       "      <td>1969.0</td>\n",
       "      <td>0.002438</td>\n",
       "      <td>45.0</td>\n",
       "      <td>61.0</td>\n",
       "      <td>1.0</td>\n",
       "      <td>6.30</td>\n",
       "    </tr>\n",
       "    <tr>\n",
       "      <th>2</th>\n",
       "      <td>2020-02-01 00:43:28</td>\n",
       "      <td>5.0</td>\n",
       "      <td>0.0</td>\n",
       "      <td>0.0</td>\n",
       "      <td>31.0</td>\n",
       "      <td>1.0</td>\n",
       "      <td>3.20</td>\n",
       "      <td>704.0</td>\n",
       "      <td>0.004545</td>\n",
       "      <td>186.0</td>\n",
       "      <td>140.0</td>\n",
       "      <td>1.0</td>\n",
       "      <td>1.00</td>\n",
       "    </tr>\n",
       "    <tr>\n",
       "      <th>3</th>\n",
       "      <td>2020-02-01 00:31:39</td>\n",
       "      <td>5.0</td>\n",
       "      <td>0.0</td>\n",
       "      <td>0.0</td>\n",
       "      <td>7.0</td>\n",
       "      <td>1.0</td>\n",
       "      <td>4.38</td>\n",
       "      <td>1444.0</td>\n",
       "      <td>0.003033</td>\n",
       "      <td>144.0</td>\n",
       "      <td>140.0</td>\n",
       "      <td>1.0</td>\n",
       "      <td>3.00</td>\n",
       "    </tr>\n",
       "    <tr>\n",
       "      <th>4</th>\n",
       "      <td>2020-02-01 01:01:29</td>\n",
       "      <td>5.0</td>\n",
       "      <td>0.0</td>\n",
       "      <td>0.0</td>\n",
       "      <td>51.0</td>\n",
       "      <td>1.0</td>\n",
       "      <td>2.28</td>\n",
       "      <td>586.0</td>\n",
       "      <td>0.003891</td>\n",
       "      <td>238.0</td>\n",
       "      <td>152.0</td>\n",
       "      <td>1.0</td>\n",
       "      <td>0.00</td>\n",
       "    </tr>\n",
       "  </tbody>\n",
       "</table>\n",
       "</div>"
      ],
      "text/plain": [
       "  tpep_dropoff_datetime  pickup_weekday  pickup_hour  work_hours  \\\n",
       "0   2020-02-01 00:30:32             5.0          0.0         0.0   \n",
       "1   2020-02-01 01:05:36             5.0          0.0         0.0   \n",
       "2   2020-02-01 00:43:28             5.0          0.0         0.0   \n",
       "3   2020-02-01 00:31:39             5.0          0.0         0.0   \n",
       "4   2020-02-01 01:01:29             5.0          0.0         0.0   \n",
       "\n",
       "   pickup_minute  passenger_count  trip_distance  trip_time  trip_speed  \\\n",
       "0           17.0              1.0           2.60      777.0    0.003346   \n",
       "1           32.0              1.0           4.80     1969.0    0.002438   \n",
       "2           31.0              1.0           3.20      704.0    0.004545   \n",
       "3            7.0              1.0           4.38     1444.0    0.003033   \n",
       "4           51.0              1.0           2.28      586.0    0.003891   \n",
       "\n",
       "   PULocationID  DOLocationID  RatecodeID  tip_amount  \n",
       "0         145.0           7.0         1.0        2.45  \n",
       "1          45.0          61.0         1.0        6.30  \n",
       "2         186.0         140.0         1.0        1.00  \n",
       "3         144.0         140.0         1.0        3.00  \n",
       "4         238.0         152.0         1.0        0.00  "
      ]
     },
     "execution_count": 72,
     "metadata": {},
     "output_type": "execute_result"
    }
   ],
   "source": [
    "taxi_test.head()"
   ]
  },
  {
   "cell_type": "markdown",
   "id": "9145379c-07cb-4eb0-992e-686044fdafab",
   "metadata": {},
   "source": [
    "### Cargamos el modelo que guardamos y realizamos predicciones de prueba"
   ]
  },
  {
   "cell_type": "code",
   "execution_count": 74,
   "id": "c741420f-e666-4fbf-bb8e-ab459e4ab484",
   "metadata": {},
   "outputs": [],
   "source": [
    "model_path = os.path.join(os.getcwd(), \"..\", \"models\", \"random_forest_model.joblib\")\n",
    "model = load_model(model_path)"
   ]
  },
  {
   "cell_type": "code",
   "execution_count": 75,
   "id": "9c25ebe0-6023-4e74-a008-2a80574d71d7",
   "metadata": {},
   "outputs": [
    {
     "data": {
      "text/plain": [
       "array(['pickup_weekday', 'pickup_hour', 'work_hours', 'pickup_minute',\n",
       "       'passenger_count', 'trip_distance', 'trip_time', 'trip_speed',\n",
       "       'PULocationID', 'DOLocationID', 'RatecodeID'], dtype=object)"
      ]
     },
     "execution_count": 75,
     "metadata": {},
     "output_type": "execute_result"
    }
   ],
   "source": [
    "model.feature_names_in_"
   ]
  },
  {
   "cell_type": "code",
   "execution_count": 76,
   "id": "ec826642-6a5d-49b0-8b54-06112c83bba7",
   "metadata": {},
   "outputs": [],
   "source": [
    "features = features[model.feature_names_in_]"
   ]
  },
  {
   "cell_type": "code",
   "execution_count": 77,
   "id": "2fdbb64d-16d2-4502-81b0-87f4f911fe06",
   "metadata": {},
   "outputs": [
    {
     "name": "stdout",
     "output_type": "stream",
     "text": [
      "F1-score para el conjunto de prueba (febrero 2020): 0.8401\n",
      "Tiempo total de evaluación: 29.59 segundos\n"
     ]
    }
   ],
   "source": [
    "from time import time\n",
    "\n",
    "start = time()\n",
    "f1_feb = evaluate_model(model, features, y_test)\n",
    "print(f\"F1-score para el conjunto de prueba (febrero 2020): {f1_feb:.4f}\")\n",
    "print(f\"Tiempo total de evaluación: {time() - start:.2f} segundos\")"
   ]
  },
  {
   "cell_type": "markdown",
   "id": "446262a5-2063-47a3-9dec-2a9d7fe6dc11",
   "metadata": {},
   "source": [
    "## Cargamos los datos de mayo 2020 / prueba"
   ]
  },
  {
   "cell_type": "code",
   "execution_count": 79,
   "id": "436d7442-1896-4e28-bcd4-770cce1d2866",
   "metadata": {},
   "outputs": [
    {
     "name": "stderr",
     "output_type": "stream",
     "text": [
      "C:\\Users\\raval\\Dropbox\\Magister Data Science\\5TRIMESTRE\\Desarrollo_Proyectos_y_Productos_Datos\\Tarea_01\\nyc_tips_classifier\\src\\features\\build_features.py:27: SettingWithCopyWarning: \n",
      "A value is trying to be set on a copy of a slice from a DataFrame.\n",
      "Try using .loc[row_indexer,col_indexer] = value instead\n",
      "\n",
      "See the caveats in the documentation: https://pandas.pydata.org/pandas-docs/stable/user_guide/indexing.html#returning-a-view-versus-a-copy\n",
      "  df[features + [target_col]] = df[features + [target_col]].astype(\"float32\").fillna(-1.0)\n"
     ]
    }
   ],
   "source": [
    "taxi_feb = pd.read_parquet('https://d37ci6vzurychx.cloudfront.net/trip-data/yellow_tripdata_2020-05.parquet')\n",
    "target_col = \"tip_amount\"\n",
    "taxi_test = build_features(taxi_feb, target_col=target_col)\n",
    "features = taxi_test.drop(columns=[target_col])\n",
    "y_test = taxi_test[target_col]\n",
    "\n",
    "y_test = (y_test > 0).astype(int)"
   ]
  },
  {
   "cell_type": "code",
   "execution_count": 80,
   "id": "87937f6f-2bf6-4472-87a4-ccd8352ebf98",
   "metadata": {},
   "outputs": [
    {
     "data": {
      "text/plain": [
       "array(['pickup_weekday', 'pickup_hour', 'work_hours', 'pickup_minute',\n",
       "       'passenger_count', 'trip_distance', 'trip_time', 'trip_speed',\n",
       "       'PULocationID', 'DOLocationID', 'RatecodeID'], dtype=object)"
      ]
     },
     "execution_count": 80,
     "metadata": {},
     "output_type": "execute_result"
    }
   ],
   "source": [
    "model.feature_names_in_"
   ]
  },
  {
   "cell_type": "code",
   "execution_count": 81,
   "id": "96d66bac-c7ed-4fdf-8fa3-61948aa9fde8",
   "metadata": {},
   "outputs": [],
   "source": [
    "features = features[model.feature_names_in_]"
   ]
  },
  {
   "cell_type": "code",
   "execution_count": 82,
   "id": "afa85dbc-64c8-4a3c-8de9-e37a5359041a",
   "metadata": {},
   "outputs": [
    {
     "name": "stdout",
     "output_type": "stream",
     "text": [
      "F1-score para el conjunto de prueba (febrero 2020): 0.6803\n",
      "Tiempo total de evaluación: 1.69 segundos\n"
     ]
    }
   ],
   "source": [
    "start = time()\n",
    "f1_may = evaluate_model(model, features, y_test)\n",
    "print(f\"F1-score para el conjunto de prueba (febrero 2020): {f1_may:.4f}\")\n",
    "print(f\"Tiempo total de evaluación: {time() - start:.2f} segundos\")"
   ]
  },
  {
   "cell_type": "markdown",
   "id": "699b1b11-c1ae-4477-9af6-9cb084a1d4ea",
   "metadata": {},
   "source": [
    "## Cargamos los datos de agosto 2020 / prueba"
   ]
  },
  {
   "cell_type": "code",
   "execution_count": 84,
   "id": "8a6ae8de-0d58-4b98-9b07-772273fd8232",
   "metadata": {},
   "outputs": [
    {
     "name": "stderr",
     "output_type": "stream",
     "text": [
      "C:\\Users\\raval\\Dropbox\\Magister Data Science\\5TRIMESTRE\\Desarrollo_Proyectos_y_Productos_Datos\\Tarea_01\\nyc_tips_classifier\\src\\features\\build_features.py:27: SettingWithCopyWarning: \n",
      "A value is trying to be set on a copy of a slice from a DataFrame.\n",
      "Try using .loc[row_indexer,col_indexer] = value instead\n",
      "\n",
      "See the caveats in the documentation: https://pandas.pydata.org/pandas-docs/stable/user_guide/indexing.html#returning-a-view-versus-a-copy\n",
      "  df[features + [target_col]] = df[features + [target_col]].astype(\"float32\").fillna(-1.0)\n"
     ]
    }
   ],
   "source": [
    "taxi_feb = pd.read_parquet('https://d37ci6vzurychx.cloudfront.net/trip-data/yellow_tripdata_2020-08.parquet')\n",
    "target_col = \"tip_amount\"\n",
    "taxi_test = build_features(taxi_feb, target_col=target_col)\n",
    "features = taxi_test.drop(columns=[target_col])\n",
    "y_test = taxi_test[target_col]\n",
    "\n",
    "y_test = (y_test > 0).astype(int)"
   ]
  },
  {
   "cell_type": "code",
   "execution_count": 85,
   "id": "6effe29b-680a-47f1-a3d6-6c59efc5e8a7",
   "metadata": {},
   "outputs": [
    {
     "data": {
      "text/plain": [
       "array(['pickup_weekday', 'pickup_hour', 'work_hours', 'pickup_minute',\n",
       "       'passenger_count', 'trip_distance', 'trip_time', 'trip_speed',\n",
       "       'PULocationID', 'DOLocationID', 'RatecodeID'], dtype=object)"
      ]
     },
     "execution_count": 85,
     "metadata": {},
     "output_type": "execute_result"
    }
   ],
   "source": [
    "model.feature_names_in_"
   ]
  },
  {
   "cell_type": "code",
   "execution_count": 86,
   "id": "3e966cbe-ac80-4cc0-a0ae-5b1b190e3e5d",
   "metadata": {},
   "outputs": [],
   "source": [
    "features = features[model.feature_names_in_]"
   ]
  },
  {
   "cell_type": "code",
   "execution_count": 87,
   "id": "41891038-a4b2-4320-95ee-7b2e4421dd11",
   "metadata": {},
   "outputs": [
    {
     "name": "stdout",
     "output_type": "stream",
     "text": [
      "F1-score para el conjunto de prueba (febrero 2020): 0.7495\n",
      "Tiempo total de evaluación: 4.80 segundos\n"
     ]
    }
   ],
   "source": [
    "start = time()\n",
    "f1_aug = evaluate_model(model, features, y_test)\n",
    "print(f\"F1-score para el conjunto de prueba (febrero 2020): {f1_aug:.4f}\")\n",
    "print(f\"Tiempo total de evaluación: {time() - start:.2f} segundos\")"
   ]
  },
  {
   "cell_type": "markdown",
   "id": "b8e4c5d4-182a-43de-89cb-23c3d228cc6f",
   "metadata": {},
   "source": [
    "## Comparamos las métricas F1-score de los 3 períodos."
   ]
  },
  {
   "cell_type": "code",
   "execution_count": 89,
   "id": "8af03bda-fcad-4d8d-abac-4103710fc19c",
   "metadata": {},
   "outputs": [
    {
     "data": {
      "text/html": [
       "<div>\n",
       "<style scoped>\n",
       "    .dataframe tbody tr th:only-of-type {\n",
       "        vertical-align: middle;\n",
       "    }\n",
       "\n",
       "    .dataframe tbody tr th {\n",
       "        vertical-align: top;\n",
       "    }\n",
       "\n",
       "    .dataframe thead th {\n",
       "        text-align: right;\n",
       "    }\n",
       "</style>\n",
       "<table border=\"1\" class=\"dataframe\">\n",
       "  <thead>\n",
       "    <tr style=\"text-align: right;\">\n",
       "      <th></th>\n",
       "      <th>F1-score</th>\n",
       "    </tr>\n",
       "    <tr>\n",
       "      <th>Periodo</th>\n",
       "      <th></th>\n",
       "    </tr>\n",
       "  </thead>\n",
       "  <tbody>\n",
       "    <tr>\n",
       "      <th>Febrero 2020</th>\n",
       "      <td>0.8401</td>\n",
       "    </tr>\n",
       "    <tr>\n",
       "      <th>Mayo 2020</th>\n",
       "      <td>0.6803</td>\n",
       "    </tr>\n",
       "    <tr>\n",
       "      <th>Agosto 2020</th>\n",
       "      <td>0.7495</td>\n",
       "    </tr>\n",
       "  </tbody>\n",
       "</table>\n",
       "</div>"
      ],
      "text/plain": [
       "              F1-score\n",
       "Periodo               \n",
       "Febrero 2020    0.8401\n",
       "Mayo 2020       0.6803\n",
       "Agosto 2020     0.7495"
      ]
     },
     "metadata": {},
     "output_type": "display_data"
    }
   ],
   "source": [
    "# Diccionario con los F1-scores\n",
    "f1_scores = {\n",
    "    \"Febrero 2020\": f1_feb,\n",
    "    \"Mayo 2020\": f1_may,\n",
    "    \"Agosto 2020\": f1_aug\n",
    "}\n",
    "\n",
    "# Convertimos a DataFrame\n",
    "f1_df = pd.DataFrame.from_dict(f1_scores, orient='index', columns=[\"F1-score\"])\n",
    "f1_df.index.name = \"Periodo\"\n",
    "f1_df = f1_df.round(4)\n",
    "\n",
    "display(f1_df)\n"
   ]
  },
  {
   "cell_type": "code",
   "execution_count": null,
   "id": "cdf5f7d0-7f80-4c1f-ae5b-e2b6efd5ce1e",
   "metadata": {},
   "outputs": [],
   "source": []
  },
  {
   "cell_type": "code",
   "execution_count": null,
   "id": "cadd22ef-687c-41f8-a2d6-81d39dd24139",
   "metadata": {},
   "outputs": [],
   "source": []
  }
 ],
 "metadata": {
  "kernelspec": {
   "display_name": "Python 3 (ipykernel)",
   "language": "python",
   "name": "python3"
  },
  "language_info": {
   "codemirror_mode": {
    "name": "ipython",
    "version": 3
   },
   "file_extension": ".py",
   "mimetype": "text/x-python",
   "name": "python",
   "nbconvert_exporter": "python",
   "pygments_lexer": "ipython3",
   "version": "3.11.7"
  }
 },
 "nbformat": 4,
 "nbformat_minor": 5
}
