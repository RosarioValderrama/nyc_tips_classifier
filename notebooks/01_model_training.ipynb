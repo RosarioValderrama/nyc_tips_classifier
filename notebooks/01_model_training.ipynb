{
 "cells": [
  {
   "cell_type": "markdown",
   "id": "df542da3-9dfa-4668-a51f-4300de0b9770",
   "metadata": {},
   "source": [
    "# Clasificador de Propinas para Viajes en Taxi en NYC (2020)\n",
    "\n",
    "Inspirado en la charla [\"Keeping up with Machine Learning in Production\"](https://github.com/shreyashankar/debugging-ml-talk) de [Shreya Shankar](https://twitter.com/sh_reya)"
   ]
  },
  {
   "cell_type": "markdown",
   "id": "bfd6da67-6b52-4f01-874b-530d559139ed",
   "metadata": {},
   "source": [
    "Este notebook muestra la construcción de un modelo de machine learning de juguete, usando datos de viajes de los taxis amarillos de Nueva York para el año 2020, [proporcionados por la NYC Taxi and Limousine Commission (TLC)](https://www1.nyc.gov/site/tlc/about/tlc-trip-record-data.page).\n",
    "\n",
    "La idea es encontrar aquellos viajes donde la propina dejada por el pasajero fue alta, es decir, mayor al 20% del costo del viaje.\n",
    "\n",
    "Para ello ajustaremos un modelo de classificación binaria RandomForest usando los datos de los viajes de enero de 2020. Probaremos el modelo resultante sobre los datos de los viajes de febrero de 2020. Compararemos el desempeño del modelo en ambos casos usando la métrica de [f1-score](https://en.wikipedia.org/wiki/F-score).\n",
    "\n",
    "**Este notebook está construido para ser ejecutado en [Google Colab](https://colab.research.google.com/), al que podemos acceder de manera gratuita solo teniendo un usuario de Google (Gmail) y un navegador web. No es necesario instalar nada en el computador local.**"
   ]
  },
  {
   "cell_type": "markdown",
   "id": "9c5305fd-d912-435d-aeaa-554134b41e2f",
   "metadata": {},
   "source": [
    "## Cargando las librerías necesarias"
   ]
  },
  {
   "cell_type": "code",
   "execution_count": 21,
   "id": "82a2c2d8-b1eb-4d3b-8bea-611ce306600b",
   "metadata": {},
   "outputs": [],
   "source": [
    "# Imports y configuración\n",
    "import pandas as pd\n",
    "import numpy as np\n",
    "import os\n",
    "import sys\n",
    "\n",
    "# Permite importar desde ../src\n",
    "sys.path.append(os.path.abspath(os.path.join(os.getcwd(), '..', 'src')))\n",
    "\n",
    "from data.dataset import load_dataset, add_target\n",
    "from features.build_features import preprocess\n",
    "from modeling.train import train_model"
   ]
  },
  {
   "cell_type": "markdown",
   "id": "9a8a108f-dc00-4afb-86c7-8d24a82031a7",
   "metadata": {},
   "source": [
    "## Leemos los datos de enero 2020 (entrenamiento)"
   ]
  },
  {
   "cell_type": "code",
   "execution_count": 23,
   "id": "0d1b4ca1-89f9-4ae4-8b28-563b0de8f7e9",
   "metadata": {},
   "outputs": [],
   "source": [
    "# Cargar datos desde URL\n",
    "parquet_url = \"https://d37ci6vzurychx.cloudfront.net/trip-data/yellow_tripdata_2020-01.parquet\"\n",
    "taxi = load_dataset(parquet_url)\n",
    "\n",
    "# Crear variable objetivo\n",
    "taxi = add_target(taxi, target_col=\"target\")"
   ]
  },
  {
   "cell_type": "code",
   "execution_count": 24,
   "id": "f2a79c7c-da86-4506-8547-d0ca852bb45c",
   "metadata": {},
   "outputs": [
    {
     "data": {
      "text/html": [
       "<div>\n",
       "<style scoped>\n",
       "    .dataframe tbody tr th:only-of-type {\n",
       "        vertical-align: middle;\n",
       "    }\n",
       "\n",
       "    .dataframe tbody tr th {\n",
       "        vertical-align: top;\n",
       "    }\n",
       "\n",
       "    .dataframe thead th {\n",
       "        text-align: right;\n",
       "    }\n",
       "</style>\n",
       "<table border=\"1\" class=\"dataframe\">\n",
       "  <thead>\n",
       "    <tr style=\"text-align: right;\">\n",
       "      <th></th>\n",
       "      <th>VendorID</th>\n",
       "      <th>tpep_pickup_datetime</th>\n",
       "      <th>tpep_dropoff_datetime</th>\n",
       "      <th>passenger_count</th>\n",
       "      <th>trip_distance</th>\n",
       "      <th>RatecodeID</th>\n",
       "      <th>store_and_fwd_flag</th>\n",
       "      <th>PULocationID</th>\n",
       "      <th>DOLocationID</th>\n",
       "      <th>payment_type</th>\n",
       "      <th>...</th>\n",
       "      <th>extra</th>\n",
       "      <th>mta_tax</th>\n",
       "      <th>tip_amount</th>\n",
       "      <th>tolls_amount</th>\n",
       "      <th>improvement_surcharge</th>\n",
       "      <th>total_amount</th>\n",
       "      <th>congestion_surcharge</th>\n",
       "      <th>airport_fee</th>\n",
       "      <th>tip_fraction</th>\n",
       "      <th>target</th>\n",
       "    </tr>\n",
       "  </thead>\n",
       "  <tbody>\n",
       "    <tr>\n",
       "      <th>0</th>\n",
       "      <td>1</td>\n",
       "      <td>2020-01-01 00:28:15</td>\n",
       "      <td>2020-01-01 00:33:03</td>\n",
       "      <td>1.0</td>\n",
       "      <td>1.2</td>\n",
       "      <td>1.0</td>\n",
       "      <td>N</td>\n",
       "      <td>238</td>\n",
       "      <td>239</td>\n",
       "      <td>1</td>\n",
       "      <td>...</td>\n",
       "      <td>3.0</td>\n",
       "      <td>0.5</td>\n",
       "      <td>1.47</td>\n",
       "      <td>0.0</td>\n",
       "      <td>0.3</td>\n",
       "      <td>11.27</td>\n",
       "      <td>2.5</td>\n",
       "      <td>None</td>\n",
       "      <td>0.245000</td>\n",
       "      <td>1</td>\n",
       "    </tr>\n",
       "    <tr>\n",
       "      <th>1</th>\n",
       "      <td>1</td>\n",
       "      <td>2020-01-01 00:35:39</td>\n",
       "      <td>2020-01-01 00:43:04</td>\n",
       "      <td>1.0</td>\n",
       "      <td>1.2</td>\n",
       "      <td>1.0</td>\n",
       "      <td>N</td>\n",
       "      <td>239</td>\n",
       "      <td>238</td>\n",
       "      <td>1</td>\n",
       "      <td>...</td>\n",
       "      <td>3.0</td>\n",
       "      <td>0.5</td>\n",
       "      <td>1.50</td>\n",
       "      <td>0.0</td>\n",
       "      <td>0.3</td>\n",
       "      <td>12.30</td>\n",
       "      <td>2.5</td>\n",
       "      <td>None</td>\n",
       "      <td>0.214286</td>\n",
       "      <td>1</td>\n",
       "    </tr>\n",
       "    <tr>\n",
       "      <th>2</th>\n",
       "      <td>1</td>\n",
       "      <td>2020-01-01 00:47:41</td>\n",
       "      <td>2020-01-01 00:53:52</td>\n",
       "      <td>1.0</td>\n",
       "      <td>0.6</td>\n",
       "      <td>1.0</td>\n",
       "      <td>N</td>\n",
       "      <td>238</td>\n",
       "      <td>238</td>\n",
       "      <td>1</td>\n",
       "      <td>...</td>\n",
       "      <td>3.0</td>\n",
       "      <td>0.5</td>\n",
       "      <td>1.00</td>\n",
       "      <td>0.0</td>\n",
       "      <td>0.3</td>\n",
       "      <td>10.80</td>\n",
       "      <td>2.5</td>\n",
       "      <td>None</td>\n",
       "      <td>0.166667</td>\n",
       "      <td>0</td>\n",
       "    </tr>\n",
       "    <tr>\n",
       "      <th>3</th>\n",
       "      <td>1</td>\n",
       "      <td>2020-01-01 00:55:23</td>\n",
       "      <td>2020-01-01 01:00:14</td>\n",
       "      <td>1.0</td>\n",
       "      <td>0.8</td>\n",
       "      <td>1.0</td>\n",
       "      <td>N</td>\n",
       "      <td>238</td>\n",
       "      <td>151</td>\n",
       "      <td>1</td>\n",
       "      <td>...</td>\n",
       "      <td>0.5</td>\n",
       "      <td>0.5</td>\n",
       "      <td>1.36</td>\n",
       "      <td>0.0</td>\n",
       "      <td>0.3</td>\n",
       "      <td>8.16</td>\n",
       "      <td>0.0</td>\n",
       "      <td>None</td>\n",
       "      <td>0.247273</td>\n",
       "      <td>1</td>\n",
       "    </tr>\n",
       "    <tr>\n",
       "      <th>4</th>\n",
       "      <td>2</td>\n",
       "      <td>2020-01-01 00:01:58</td>\n",
       "      <td>2020-01-01 00:04:16</td>\n",
       "      <td>1.0</td>\n",
       "      <td>0.0</td>\n",
       "      <td>1.0</td>\n",
       "      <td>N</td>\n",
       "      <td>193</td>\n",
       "      <td>193</td>\n",
       "      <td>2</td>\n",
       "      <td>...</td>\n",
       "      <td>0.5</td>\n",
       "      <td>0.5</td>\n",
       "      <td>0.00</td>\n",
       "      <td>0.0</td>\n",
       "      <td>0.3</td>\n",
       "      <td>4.80</td>\n",
       "      <td>0.0</td>\n",
       "      <td>None</td>\n",
       "      <td>0.000000</td>\n",
       "      <td>0</td>\n",
       "    </tr>\n",
       "  </tbody>\n",
       "</table>\n",
       "<p>5 rows × 21 columns</p>\n",
       "</div>"
      ],
      "text/plain": [
       "   VendorID tpep_pickup_datetime tpep_dropoff_datetime  passenger_count  \\\n",
       "0         1  2020-01-01 00:28:15   2020-01-01 00:33:03              1.0   \n",
       "1         1  2020-01-01 00:35:39   2020-01-01 00:43:04              1.0   \n",
       "2         1  2020-01-01 00:47:41   2020-01-01 00:53:52              1.0   \n",
       "3         1  2020-01-01 00:55:23   2020-01-01 01:00:14              1.0   \n",
       "4         2  2020-01-01 00:01:58   2020-01-01 00:04:16              1.0   \n",
       "\n",
       "   trip_distance  RatecodeID store_and_fwd_flag  PULocationID  DOLocationID  \\\n",
       "0            1.2         1.0                  N           238           239   \n",
       "1            1.2         1.0                  N           239           238   \n",
       "2            0.6         1.0                  N           238           238   \n",
       "3            0.8         1.0                  N           238           151   \n",
       "4            0.0         1.0                  N           193           193   \n",
       "\n",
       "   payment_type  ...  extra  mta_tax  tip_amount  tolls_amount  \\\n",
       "0             1  ...    3.0      0.5        1.47           0.0   \n",
       "1             1  ...    3.0      0.5        1.50           0.0   \n",
       "2             1  ...    3.0      0.5        1.00           0.0   \n",
       "3             1  ...    0.5      0.5        1.36           0.0   \n",
       "4             2  ...    0.5      0.5        0.00           0.0   \n",
       "\n",
       "   improvement_surcharge  total_amount  congestion_surcharge  airport_fee  \\\n",
       "0                    0.3         11.27                   2.5         None   \n",
       "1                    0.3         12.30                   2.5         None   \n",
       "2                    0.3         10.80                   2.5         None   \n",
       "3                    0.3          8.16                   0.0         None   \n",
       "4                    0.3          4.80                   0.0         None   \n",
       "\n",
       "  tip_fraction  target  \n",
       "0     0.245000       1  \n",
       "1     0.214286       1  \n",
       "2     0.166667       0  \n",
       "3     0.247273       1  \n",
       "4     0.000000       0  \n",
       "\n",
       "[5 rows x 21 columns]"
      ]
     },
     "execution_count": 24,
     "metadata": {},
     "output_type": "execute_result"
    }
   ],
   "source": [
    "taxi.head()"
   ]
  },
  {
   "cell_type": "code",
   "execution_count": 25,
   "id": "2179da60-ce93-4965-9c00-5663026cc128",
   "metadata": {},
   "outputs": [
    {
     "data": {
      "text/plain": [
       "Index(['VendorID', 'tpep_pickup_datetime', 'tpep_dropoff_datetime',\n",
       "       'passenger_count', 'trip_distance', 'RatecodeID', 'store_and_fwd_flag',\n",
       "       'PULocationID', 'DOLocationID', 'payment_type', 'fare_amount', 'extra',\n",
       "       'mta_tax', 'tip_amount', 'tolls_amount', 'improvement_surcharge',\n",
       "       'total_amount', 'congestion_surcharge', 'airport_fee', 'tip_fraction',\n",
       "       'target'],\n",
       "      dtype='object')"
      ]
     },
     "execution_count": 25,
     "metadata": {},
     "output_type": "execute_result"
    }
   ],
   "source": [
    "taxi.columns"
   ]
  },
  {
   "cell_type": "markdown",
   "id": "743559c4-98d6-4264-b153-8af5229d0974",
   "metadata": {},
   "source": [
    "## Descripción del Dataset\n",
    "\n",
    "El diccionario de los datos puede encontrarse [acá](https://www1.nyc.gov/assets/tlc/downloads/pdf/data_dictionary_trip_records_yellow.pdf):\n",
    "\n",
    "| Field Name      | Description |\n",
    "| ----------- | ----------- |\n",
    "| VendorID      | A code indicating the TPEP provider that provided the record. 1= Creative Mobile Technologies, LLC; 2= VeriFone Inc.       |\n",
    "| tpep_pickup_datetime   | The date and time when the meter was engaged.        |\n",
    "| tpep_dropoff_datetime   | The date and time when the meter was disengaged.        |\n",
    "| Passenger_count   | The number of passengers in the vehicle. This is a driver-entered value.      |\n",
    "| Trip_distance   | The elapsed trip distance in miles reported by the taximeter.      |\n",
    "| PULocationID   | TLC Taxi Zone in which the taximeter was engaged.      |\n",
    "| DOLocationID   | TLC Taxi Zone in which the taximeter was disengaged      |\n",
    "| RateCodeID   | The final rate code in effect at the end of the trip. 1= Standard rate, 2=JFK, 3=Newark, 4=Nassau or Westchester, 5=Negotiated fare, 6=Group ride     |\n",
    "| Store_and_fwd_flag | This flag indicates whether the trip record was held in vehicle memory before sending to the vendor, aka “store and forward,” because the vehicle did not have a connection to the server. Y= store and forward trip, N= not a store and forward trip |\n",
    "| Payment_type | A numeric code signifying how the passenger paid for the trip. 1= Credit card, 2= Cash, 3= No charge, 4= Dispute, 5= Unknown, 6= Voided trip |\n",
    "| Fare_amount | The time-and-distance fare calculated by the meter. |\n",
    "| Extra | Miscellaneous extras and surcharges. Currently, this only includes the \\$0.50 and \\$1 rush hour and overnight charges. |\n",
    "| MTA_tax | \\$0.50 MTA tax that is automatically triggered based on the metered rate in use. |\n",
    "| Improvement_surcharge | \\$0.30 improvement surcharge assessed trips at the flag drop. The improvement surcharge began being levied in 2015. |\n",
    "| Tip_amount | Tip amount – This field is automatically populated for credit card tips. Cash tips are not included. |\n",
    "| Tolls_amount | Total amount of all tolls paid in trip. |\n",
    "| Total_amount | The total amount charged to passengers. Does not include cash tips. |"
   ]
  },
  {
   "cell_type": "markdown",
   "id": "b38f3658-83ef-4bbf-8ce1-28fc3a47760a",
   "metadata": {},
   "source": [
    "## Definimos las características con las que realizaremos la clasificación.\n",
    "\n",
    "Las construiremos a continuación en la etapa de pre-procesamiento de los datos."
   ]
  },
  {
   "cell_type": "code",
   "execution_count": 26,
   "id": "af47e154-f548-48c9-a3c7-b271938f79b9",
   "metadata": {},
   "outputs": [],
   "source": [
    "import sys\n",
    "import os\n",
    "\n",
    "# Agrega la carpeta src al path (una vez por notebook)\n",
    "sys.path.append(os.path.abspath(os.path.join(os.getcwd(), '..', 'src')))\n",
    "\n",
    "from features.build_features import preprocess\n",
    "\n",
    "target_col = \"high_tip\"\n",
    "taxi_train = preprocess(df=taxi, target_col=target_col)"
   ]
  },
  {
   "cell_type": "code",
   "execution_count": 30,
   "id": "077bcb2f-b30b-4536-b1e7-4e64774c5842",
   "metadata": {},
   "outputs": [],
   "source": [
    "X = taxi_train.drop(columns=[\"high_tip\", \"tpep_dropoff_datetime\"])\n",
    "y = taxi_train[\"high_tip\"]"
   ]
  },
  {
   "cell_type": "code",
   "execution_count": 34,
   "id": "a38b3cbc-24e2-4ca9-ad8b-0ab1a89c218a",
   "metadata": {},
   "outputs": [
    {
     "name": "stdout",
     "output_type": "stream",
     "text": [
      "Num rows: 6382762, Size: 0.36 GB\n"
     ]
    }
   ],
   "source": [
    "# Información básica del dataset\n",
    "print(f'Num rows: {len(taxi_train)}, Size: {taxi_train.memory_usage(deep=True).sum() / 1e9:.2f} GB')"
   ]
  },
  {
   "cell_type": "code",
   "execution_count": 36,
   "id": "34dcbe3d-c2a4-47dc-8c5e-bc27c2bf47c8",
   "metadata": {},
   "outputs": [
    {
     "data": {
      "text/html": [
       "<div>\n",
       "<style scoped>\n",
       "    .dataframe tbody tr th:only-of-type {\n",
       "        vertical-align: middle;\n",
       "    }\n",
       "\n",
       "    .dataframe tbody tr th {\n",
       "        vertical-align: top;\n",
       "    }\n",
       "\n",
       "    .dataframe thead th {\n",
       "        text-align: right;\n",
       "    }\n",
       "</style>\n",
       "<table border=\"1\" class=\"dataframe\">\n",
       "  <thead>\n",
       "    <tr style=\"text-align: right;\">\n",
       "      <th></th>\n",
       "      <th>tpep_dropoff_datetime</th>\n",
       "      <th>pickup_weekday</th>\n",
       "      <th>pickup_hour</th>\n",
       "      <th>work_hours</th>\n",
       "      <th>pickup_minute</th>\n",
       "      <th>passenger_count</th>\n",
       "      <th>trip_distance</th>\n",
       "      <th>trip_time</th>\n",
       "      <th>trip_speed</th>\n",
       "      <th>PULocationID</th>\n",
       "      <th>DOLocationID</th>\n",
       "      <th>RatecodeID</th>\n",
       "      <th>high_tip</th>\n",
       "    </tr>\n",
       "  </thead>\n",
       "  <tbody>\n",
       "    <tr>\n",
       "      <th>0</th>\n",
       "      <td>2020-01-01 00:33:03</td>\n",
       "      <td>2.0</td>\n",
       "      <td>0.0</td>\n",
       "      <td>0.0</td>\n",
       "      <td>28.0</td>\n",
       "      <td>1.0</td>\n",
       "      <td>1.2</td>\n",
       "      <td>288.0</td>\n",
       "      <td>0.004167</td>\n",
       "      <td>238.0</td>\n",
       "      <td>239.0</td>\n",
       "      <td>1.0</td>\n",
       "      <td>1</td>\n",
       "    </tr>\n",
       "    <tr>\n",
       "      <th>1</th>\n",
       "      <td>2020-01-01 00:43:04</td>\n",
       "      <td>2.0</td>\n",
       "      <td>0.0</td>\n",
       "      <td>0.0</td>\n",
       "      <td>35.0</td>\n",
       "      <td>1.0</td>\n",
       "      <td>1.2</td>\n",
       "      <td>445.0</td>\n",
       "      <td>0.002697</td>\n",
       "      <td>239.0</td>\n",
       "      <td>238.0</td>\n",
       "      <td>1.0</td>\n",
       "      <td>1</td>\n",
       "    </tr>\n",
       "    <tr>\n",
       "      <th>2</th>\n",
       "      <td>2020-01-01 00:53:52</td>\n",
       "      <td>2.0</td>\n",
       "      <td>0.0</td>\n",
       "      <td>0.0</td>\n",
       "      <td>47.0</td>\n",
       "      <td>1.0</td>\n",
       "      <td>0.6</td>\n",
       "      <td>371.0</td>\n",
       "      <td>0.001617</td>\n",
       "      <td>238.0</td>\n",
       "      <td>238.0</td>\n",
       "      <td>1.0</td>\n",
       "      <td>0</td>\n",
       "    </tr>\n",
       "    <tr>\n",
       "      <th>3</th>\n",
       "      <td>2020-01-01 01:00:14</td>\n",
       "      <td>2.0</td>\n",
       "      <td>0.0</td>\n",
       "      <td>0.0</td>\n",
       "      <td>55.0</td>\n",
       "      <td>1.0</td>\n",
       "      <td>0.8</td>\n",
       "      <td>291.0</td>\n",
       "      <td>0.002749</td>\n",
       "      <td>238.0</td>\n",
       "      <td>151.0</td>\n",
       "      <td>1.0</td>\n",
       "      <td>1</td>\n",
       "    </tr>\n",
       "    <tr>\n",
       "      <th>4</th>\n",
       "      <td>2020-01-01 00:04:16</td>\n",
       "      <td>2.0</td>\n",
       "      <td>0.0</td>\n",
       "      <td>0.0</td>\n",
       "      <td>1.0</td>\n",
       "      <td>1.0</td>\n",
       "      <td>0.0</td>\n",
       "      <td>138.0</td>\n",
       "      <td>0.000000</td>\n",
       "      <td>193.0</td>\n",
       "      <td>193.0</td>\n",
       "      <td>1.0</td>\n",
       "      <td>0</td>\n",
       "    </tr>\n",
       "  </tbody>\n",
       "</table>\n",
       "</div>"
      ],
      "text/plain": [
       "  tpep_dropoff_datetime  pickup_weekday  pickup_hour  work_hours  \\\n",
       "0   2020-01-01 00:33:03             2.0          0.0         0.0   \n",
       "1   2020-01-01 00:43:04             2.0          0.0         0.0   \n",
       "2   2020-01-01 00:53:52             2.0          0.0         0.0   \n",
       "3   2020-01-01 01:00:14             2.0          0.0         0.0   \n",
       "4   2020-01-01 00:04:16             2.0          0.0         0.0   \n",
       "\n",
       "   pickup_minute  passenger_count  trip_distance  trip_time  trip_speed  \\\n",
       "0           28.0              1.0            1.2      288.0    0.004167   \n",
       "1           35.0              1.0            1.2      445.0    0.002697   \n",
       "2           47.0              1.0            0.6      371.0    0.001617   \n",
       "3           55.0              1.0            0.8      291.0    0.002749   \n",
       "4            1.0              1.0            0.0      138.0    0.000000   \n",
       "\n",
       "   PULocationID  DOLocationID  RatecodeID  high_tip  \n",
       "0         238.0         239.0         1.0         1  \n",
       "1         239.0         238.0         1.0         1  \n",
       "2         238.0         238.0         1.0         0  \n",
       "3         238.0         151.0         1.0         1  \n",
       "4         193.0         193.0         1.0         0  "
      ]
     },
     "execution_count": 36,
     "metadata": {},
     "output_type": "execute_result"
    }
   ],
   "source": [
    "taxi_train.head()"
   ]
  },
  {
   "cell_type": "code",
   "execution_count": 40,
   "id": "f85f5998-20ef-42a1-9882-a80436d09dd4",
   "metadata": {},
   "outputs": [
    {
     "data": {
      "text/plain": [
       "Index(['tpep_dropoff_datetime', 'pickup_weekday', 'pickup_hour', 'work_hours',\n",
       "       'pickup_minute', 'passenger_count', 'trip_distance', 'trip_time',\n",
       "       'trip_speed', 'PULocationID', 'DOLocationID', 'RatecodeID', 'high_tip'],\n",
       "      dtype='object')"
      ]
     },
     "execution_count": 40,
     "metadata": {},
     "output_type": "execute_result"
    }
   ],
   "source": [
    "taxi_train.columns"
   ]
  },
  {
   "cell_type": "markdown",
   "id": "9918980a-f09f-4b50-8cc3-913279976f43",
   "metadata": {},
   "source": [
    "## Entrenamos y exportamos el modelo"
   ]
  },
  {
   "cell_type": "code",
   "execution_count": 79,
   "id": "0b3cbbaf-8a1a-4a1b-aba0-34bccad4b7ef",
   "metadata": {},
   "outputs": [
    {
     "name": "stdout",
     "output_type": "stream",
     "text": [
      "Entrenamiento finalizado en 744.61 segundos\n"
     ]
    }
   ],
   "source": [
    "# Entrenar el modelo y guardar\n",
    "\n",
    "from time import time\n",
    "start = time()\n",
    "\n",
    "model_path = os.path.join(os.getcwd(), \"..\", \"models\", \"random_forest_model.joblib\")\n",
    "model = train_model(X, y, model_path=model_path)\n",
    "\n",
    "\n",
    "print(f\"Entrenamiento finalizado en {time() - start:.2f} segundos\")"
   ]
  },
  {
   "cell_type": "markdown",
   "id": "86c7cd32-890c-4962-b89a-9e8988bea759",
   "metadata": {},
   "source": [
    "## Calculamos la métrica f1-score en el conjunto de entrenamiento"
   ]
  },
  {
   "cell_type": "code",
   "execution_count": 88,
   "id": "6b6cf6d9-f7a2-4aef-a010-8b260329beac",
   "metadata": {},
   "outputs": [],
   "source": [
    "from sklearn.metrics import f1_score\n",
    "\n",
    "preds = model.predict_proba(X)\n",
    "preds_labels = [p[1] for p in preds.round()]\n",
    "f1 = f1_score(y, preds_labels)"
   ]
  },
  {
   "cell_type": "code",
   "execution_count": 89,
   "id": "bc0aa7a8-60e2-4013-925e-83a1835da271",
   "metadata": {},
   "outputs": [
    {
     "name": "stdout",
     "output_type": "stream",
     "text": [
      "F1-score del conjunto de entrenamiento: 0.7296\n"
     ]
    }
   ],
   "source": [
    "print(f'F1-score del conjunto de entrenamiento: {f1:.4f}')"
   ]
  }
 ],
 "metadata": {
  "kernelspec": {
   "display_name": "Python 3 (ipykernel)",
   "language": "python",
   "name": "python3"
  },
  "language_info": {
   "codemirror_mode": {
    "name": "ipython",
    "version": 3
   },
   "file_extension": ".py",
   "mimetype": "text/x-python",
   "name": "python",
   "nbconvert_exporter": "python",
   "pygments_lexer": "ipython3",
   "version": "3.11.7"
  }
 },
 "nbformat": 4,
 "nbformat_minor": 5
}
