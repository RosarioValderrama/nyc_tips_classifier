{
 "cells": [
  {
   "cell_type": "markdown",
   "id": "d23d4ae2-a228-4dcd-a069-5fd62e1670b7",
   "metadata": {},
   "source": [
    "## Automatización de la evaluación"
   ]
  },
  {
   "cell_type": "code",
   "execution_count": 75,
   "id": "72754c95-6317-4577-b831-e4dd8e3a35e1",
   "metadata": {},
   "outputs": [],
   "source": [
    "import pandas as pd\n",
    "import numpy as np\n",
    "import os\n",
    "import sys\n",
    "\n",
    "# Agregar src al path\n",
    "sys.path.append(os.path.abspath(os.path.join(os.getcwd(), '..', 'src')))\n",
    "\n",
    "from modeling.predict import evaluate_model\n",
    "from features.build_features import build_features\n",
    "from modeling.predict import load_model\n",
    "from sklearn.metrics import f1_score"
   ]
  },
  {
   "cell_type": "markdown",
   "id": "988facd2-41fd-4956-9d8c-5f6ba88acb66",
   "metadata": {},
   "source": [
    "### Cargar el modelo entrenado"
   ]
  },
  {
   "cell_type": "code",
   "execution_count": 77,
   "id": "87fb9fd5-2184-4362-81af-10d763b635be",
   "metadata": {},
   "outputs": [],
   "source": [
    "model_path = os.path.join(os.getcwd(), \"..\", \"models\", \"random_forest_model.joblib\")\n",
    "model = load_model(model_path)"
   ]
  },
  {
   "cell_type": "code",
   "execution_count": 81,
   "id": "0fba4ca8-5aba-4e33-9240-771f33acb78f",
   "metadata": {},
   "outputs": [
    {
     "name": "stdout",
     "output_type": "stream",
     "text": [
      "Index(['Mes', 'Ejemplos', 'F1-score'], dtype='object')\n"
     ]
    }
   ],
   "source": [
    "print(df_resultados.columns)"
   ]
  },
  {
   "cell_type": "markdown",
   "id": "424bd0ac-f4a0-41bf-b1bb-4f065f11f16f",
   "metadata": {},
   "source": [
    "### Evaluación mensual del modelo"
   ]
  },
  {
   "cell_type": "code",
   "execution_count": 92,
   "id": "4d705965-a0ed-4e7e-83a8-3cd699762db2",
   "metadata": {},
   "outputs": [],
   "source": [
    "meses = [\"2020-01\", \"2020-02\", \"2020-05\", \"2020-08\"]\n",
    "url_base = \"https://d37ci6vzurychx.cloudfront.net/trip-data/yellow_tripdata_{mes}.parquet\"\n",
    "\n",
    "def evaluar_modelo_mensual(model, meses, url_base):\n",
    "    resultados = []\n",
    "    target_col = \"tip_amount\"  # Ajusta este nombre si tu variable objetivo es otra\n",
    "\n",
    "    for mes in meses:\n",
    "        try:\n",
    "            print(f\"Procesando {mes}...\")\n",
    "            url = url_base.format(mes=mes)\n",
    "            df = pd.read_parquet(url)\n",
    "            X, y = build_features(df, target_col=target_col)\n",
    "\n",
    "            # Mostrar columnas usadas por el modelo\n",
    "            print(f\"Features para {mes}:\")\n",
    "            print(X.columns.tolist())\n",
    "\n",
    "            f1 = evaluate_model(model, X, y)\n",
    "            resultados.append({\n",
    "                \"Mes\": mes,\n",
    "                \"F1-score\": f1,\n",
    "                \"Ejemplos\": len(df)\n",
    "            })\n",
    "        except Exception as e:\n",
    "            print(f\"Error al procesar {mes}: {e}\")\n",
    "    \n",
    "    return pd.DataFrame(resultados)"
   ]
  },
  {
   "cell_type": "code",
   "execution_count": 94,
   "id": "9c28058a-a73b-4158-8752-b57a8a40abe4",
   "metadata": {},
   "outputs": [
    {
     "name": "stdout",
     "output_type": "stream",
     "text": [
      "Procesando 2020-01...\n"
     ]
    },
    {
     "name": "stderr",
     "output_type": "stream",
     "text": [
      "C:\\Users\\raval\\Dropbox\\Magister Data Science\\5TRIMESTRE\\Desarrollo_Proyectos_y_Productos_Datos\\Tarea_01\\nyc_tips_classifier\\src\\features\\build_features.py:27: SettingWithCopyWarning: \n",
      "A value is trying to be set on a copy of a slice from a DataFrame.\n",
      "Try using .loc[row_indexer,col_indexer] = value instead\n",
      "\n",
      "See the caveats in the documentation: https://pandas.pydata.org/pandas-docs/stable/user_guide/indexing.html#returning-a-view-versus-a-copy\n",
      "  df[features + [target_col]] = df[features + [target_col]].astype(\"float32\").fillna(-1.0)\n"
     ]
    },
    {
     "name": "stdout",
     "output_type": "stream",
     "text": [
      "Error al procesar 2020-01: too many values to unpack (expected 2)\n",
      "Procesando 2020-02...\n"
     ]
    },
    {
     "name": "stderr",
     "output_type": "stream",
     "text": [
      "C:\\Users\\raval\\Dropbox\\Magister Data Science\\5TRIMESTRE\\Desarrollo_Proyectos_y_Productos_Datos\\Tarea_01\\nyc_tips_classifier\\src\\features\\build_features.py:27: SettingWithCopyWarning: \n",
      "A value is trying to be set on a copy of a slice from a DataFrame.\n",
      "Try using .loc[row_indexer,col_indexer] = value instead\n",
      "\n",
      "See the caveats in the documentation: https://pandas.pydata.org/pandas-docs/stable/user_guide/indexing.html#returning-a-view-versus-a-copy\n",
      "  df[features + [target_col]] = df[features + [target_col]].astype(\"float32\").fillna(-1.0)\n"
     ]
    },
    {
     "name": "stdout",
     "output_type": "stream",
     "text": [
      "Error al procesar 2020-02: too many values to unpack (expected 2)\n",
      "Procesando 2020-05...\n"
     ]
    },
    {
     "name": "stderr",
     "output_type": "stream",
     "text": [
      "C:\\Users\\raval\\Dropbox\\Magister Data Science\\5TRIMESTRE\\Desarrollo_Proyectos_y_Productos_Datos\\Tarea_01\\nyc_tips_classifier\\src\\features\\build_features.py:27: SettingWithCopyWarning: \n",
      "A value is trying to be set on a copy of a slice from a DataFrame.\n",
      "Try using .loc[row_indexer,col_indexer] = value instead\n",
      "\n",
      "See the caveats in the documentation: https://pandas.pydata.org/pandas-docs/stable/user_guide/indexing.html#returning-a-view-versus-a-copy\n",
      "  df[features + [target_col]] = df[features + [target_col]].astype(\"float32\").fillna(-1.0)\n"
     ]
    },
    {
     "name": "stdout",
     "output_type": "stream",
     "text": [
      "Error al procesar 2020-05: too many values to unpack (expected 2)\n",
      "Procesando 2020-08...\n",
      "Error al procesar 2020-08: too many values to unpack (expected 2)\n"
     ]
    },
    {
     "name": "stderr",
     "output_type": "stream",
     "text": [
      "C:\\Users\\raval\\Dropbox\\Magister Data Science\\5TRIMESTRE\\Desarrollo_Proyectos_y_Productos_Datos\\Tarea_01\\nyc_tips_classifier\\src\\features\\build_features.py:27: SettingWithCopyWarning: \n",
      "A value is trying to be set on a copy of a slice from a DataFrame.\n",
      "Try using .loc[row_indexer,col_indexer] = value instead\n",
      "\n",
      "See the caveats in the documentation: https://pandas.pydata.org/pandas-docs/stable/user_guide/indexing.html#returning-a-view-versus-a-copy\n",
      "  df[features + [target_col]] = df[features + [target_col]].astype(\"float32\").fillna(-1.0)\n"
     ]
    },
    {
     "data": {
      "text/html": [
       "<div>\n",
       "<style scoped>\n",
       "    .dataframe tbody tr th:only-of-type {\n",
       "        vertical-align: middle;\n",
       "    }\n",
       "\n",
       "    .dataframe tbody tr th {\n",
       "        vertical-align: top;\n",
       "    }\n",
       "\n",
       "    .dataframe thead th {\n",
       "        text-align: right;\n",
       "    }\n",
       "</style>\n",
       "<table border=\"1\" class=\"dataframe\">\n",
       "  <thead>\n",
       "    <tr style=\"text-align: right;\">\n",
       "      <th></th>\n",
       "    </tr>\n",
       "  </thead>\n",
       "  <tbody>\n",
       "  </tbody>\n",
       "</table>\n",
       "</div>"
      ],
      "text/plain": [
       "Empty DataFrame\n",
       "Columns: []\n",
       "Index: []"
      ]
     },
     "metadata": {},
     "output_type": "display_data"
    }
   ],
   "source": [
    "df_resultados = evaluar_modelo_mensual(model, meses, url_base)\n",
    "display(df_resultados)"
   ]
  },
  {
   "cell_type": "code",
   "execution_count": 95,
   "id": "ee2dff76-e1db-4a8c-ac6d-22f1d62425e6",
   "metadata": {},
   "outputs": [],
   "source": [
    "import matplotlib.pyplot as plt\n",
    "\n",
    "def graficar_resultados(df_resultados):\n",
    "    fig, ax1 = plt.subplots(figsize=(10, 5))\n",
    "\n",
    "    color = 'tab:blue'\n",
    "    ax1.set_xlabel(\"Mes\")\n",
    "    ax1.set_ylabel(\"F1-score\", color=color)\n",
    "    ax1.plot(df_resultados[\"Mes\"], df_resultados[\"F1-score\"], marker='o', color=color, label=\"F1-score\")\n",
    "    ax1.tick_params(axis='y', labelcolor=color)\n",
    "\n",
    "    ax2 = ax1.twinx()\n",
    "    color = 'tab:gray'\n",
    "    ax2.set_ylabel(\"Cantidad de ejemplos\", color=color)\n",
    "    ax2.bar(df_resultados[\"Mes\"], df_resultados[\"Ejemplos\"], alpha=0.3, color=color, label=\"Cantidad de ejemplos\")\n",
    "    ax2.tick_params(axis='y', labelcolor=color)\n",
    "\n",
    "    fig.suptitle(\"Evaluación del Modelo por Mes\")\n",
    "    fig.tight_layout()\n",
    "    plt.show()"
   ]
  },
  {
   "cell_type": "code",
   "execution_count": 96,
   "id": "7bdfd8cb-8fc3-4c91-833f-a1678a76102e",
   "metadata": {},
   "outputs": [
    {
     "ename": "KeyError",
     "evalue": "'Mes'",
     "output_type": "error",
     "traceback": [
      "\u001b[1;31m---------------------------------------------------------------------------\u001b[0m",
      "\u001b[1;31mKeyError\u001b[0m                                  Traceback (most recent call last)",
      "Cell \u001b[1;32mIn[96], line 1\u001b[0m\n\u001b[1;32m----> 1\u001b[0m graficar_resultados(df_resultados)\n",
      "Cell \u001b[1;32mIn[95], line 9\u001b[0m, in \u001b[0;36mgraficar_resultados\u001b[1;34m(df_resultados)\u001b[0m\n\u001b[0;32m      7\u001b[0m ax1\u001b[38;5;241m.\u001b[39mset_xlabel(\u001b[38;5;124m\"\u001b[39m\u001b[38;5;124mMes\u001b[39m\u001b[38;5;124m\"\u001b[39m)\n\u001b[0;32m      8\u001b[0m ax1\u001b[38;5;241m.\u001b[39mset_ylabel(\u001b[38;5;124m\"\u001b[39m\u001b[38;5;124mF1-score\u001b[39m\u001b[38;5;124m\"\u001b[39m, color\u001b[38;5;241m=\u001b[39mcolor)\n\u001b[1;32m----> 9\u001b[0m ax1\u001b[38;5;241m.\u001b[39mplot(df_resultados[\u001b[38;5;124m\"\u001b[39m\u001b[38;5;124mMes\u001b[39m\u001b[38;5;124m\"\u001b[39m], df_resultados[\u001b[38;5;124m\"\u001b[39m\u001b[38;5;124mF1-score\u001b[39m\u001b[38;5;124m\"\u001b[39m], marker\u001b[38;5;241m=\u001b[39m\u001b[38;5;124m'\u001b[39m\u001b[38;5;124mo\u001b[39m\u001b[38;5;124m'\u001b[39m, color\u001b[38;5;241m=\u001b[39mcolor, label\u001b[38;5;241m=\u001b[39m\u001b[38;5;124m\"\u001b[39m\u001b[38;5;124mF1-score\u001b[39m\u001b[38;5;124m\"\u001b[39m)\n\u001b[0;32m     10\u001b[0m ax1\u001b[38;5;241m.\u001b[39mtick_params(axis\u001b[38;5;241m=\u001b[39m\u001b[38;5;124m'\u001b[39m\u001b[38;5;124my\u001b[39m\u001b[38;5;124m'\u001b[39m, labelcolor\u001b[38;5;241m=\u001b[39mcolor)\n\u001b[0;32m     12\u001b[0m ax2 \u001b[38;5;241m=\u001b[39m ax1\u001b[38;5;241m.\u001b[39mtwinx()\n",
      "File \u001b[1;32m~\\anaconda3\\Lib\\site-packages\\pandas\\core\\frame.py:3893\u001b[0m, in \u001b[0;36mDataFrame.__getitem__\u001b[1;34m(self, key)\u001b[0m\n\u001b[0;32m   3891\u001b[0m \u001b[38;5;28;01mif\u001b[39;00m \u001b[38;5;28mself\u001b[39m\u001b[38;5;241m.\u001b[39mcolumns\u001b[38;5;241m.\u001b[39mnlevels \u001b[38;5;241m>\u001b[39m \u001b[38;5;241m1\u001b[39m:\n\u001b[0;32m   3892\u001b[0m     \u001b[38;5;28;01mreturn\u001b[39;00m \u001b[38;5;28mself\u001b[39m\u001b[38;5;241m.\u001b[39m_getitem_multilevel(key)\n\u001b[1;32m-> 3893\u001b[0m indexer \u001b[38;5;241m=\u001b[39m \u001b[38;5;28mself\u001b[39m\u001b[38;5;241m.\u001b[39mcolumns\u001b[38;5;241m.\u001b[39mget_loc(key)\n\u001b[0;32m   3894\u001b[0m \u001b[38;5;28;01mif\u001b[39;00m is_integer(indexer):\n\u001b[0;32m   3895\u001b[0m     indexer \u001b[38;5;241m=\u001b[39m [indexer]\n",
      "File \u001b[1;32m~\\anaconda3\\Lib\\site-packages\\pandas\\core\\indexes\\range.py:418\u001b[0m, in \u001b[0;36mRangeIndex.get_loc\u001b[1;34m(self, key)\u001b[0m\n\u001b[0;32m    416\u001b[0m         \u001b[38;5;28;01mraise\u001b[39;00m \u001b[38;5;167;01mKeyError\u001b[39;00m(key) \u001b[38;5;28;01mfrom\u001b[39;00m \u001b[38;5;21;01merr\u001b[39;00m\n\u001b[0;32m    417\u001b[0m \u001b[38;5;28;01mif\u001b[39;00m \u001b[38;5;28misinstance\u001b[39m(key, Hashable):\n\u001b[1;32m--> 418\u001b[0m     \u001b[38;5;28;01mraise\u001b[39;00m \u001b[38;5;167;01mKeyError\u001b[39;00m(key)\n\u001b[0;32m    419\u001b[0m \u001b[38;5;28mself\u001b[39m\u001b[38;5;241m.\u001b[39m_check_indexing_error(key)\n\u001b[0;32m    420\u001b[0m \u001b[38;5;28;01mraise\u001b[39;00m \u001b[38;5;167;01mKeyError\u001b[39;00m(key)\n",
      "\u001b[1;31mKeyError\u001b[0m: 'Mes'"
     ]
    },
    {
     "data": {
      "image/png": "[encoded data removed]",
      "text/plain": [
       "<Figure size 1000x500 with 1 Axes>"
      ]
     },
     "metadata": {},
     "output_type": "display_data"
    }
   ],
   "source": [
    "graficar_resultados(df_resultados)"
   ]
  },
  {
   "cell_type": "markdown",
   "id": "9a4a0a0c-911d-434a-99b9-6836a6777d73",
   "metadata": {},
   "source": [
    "# Consistencia del modelo: ¿El F1-score varía mucho entre meses?"
   ]
  },
  {
   "cell_type": "code",
   "execution_count": null,
   "id": "88043390-e776-4a9a-8689-8bb46f9c3a09",
   "metadata": {},
   "outputs": [],
   "source": []
  },
  {
   "cell_type": "code",
   "execution_count": null,
   "id": "5a7eda67-d65f-4b2f-ae19-defd20ff7e7c",
   "metadata": {},
   "outputs": [],
   "source": []
  },
  {
   "cell_type": "markdown",
   "id": "99283b15-767c-47cf-b41e-5cc02102996f",
   "metadata": {},
   "source": [
    "\n",
    "Posibles causas:\n",
    "\n",
    "Cambios en el comportamiento de los usuarios (COVID en marzo/abril 2020).\n",
    "\n",
    "Cambios estacionales en los datos (clima, turismo, etc.).\n",
    "\n",
    "Variación en el volumen o tipo de viajes registrados."
   ]
  }
 ],
 "metadata": {
  "kernelspec": {
   "display_name": "Python 3 (ipykernel)",
   "language": "python",
   "name": "python3"
  },
  "language_info": {
   "codemirror_mode": {
    "name": "ipython",
    "version": 3
   },
   "file_extension": ".py",
   "mimetype": "text/x-python",
   "name": "python",
   "nbconvert_exporter": "python",
   "pygments_lexer": "ipython3",
   "version": "3.11.7"
  }
 },
 "nbformat": 4,
 "nbformat_minor": 5
}
